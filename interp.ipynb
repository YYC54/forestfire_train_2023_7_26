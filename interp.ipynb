{
 "cells": [
  {
   "cell_type": "code",
   "execution_count": 2,
   "id": "2c11c9a4-769a-486d-9f30-37adfb64cf81",
   "metadata": {
    "tags": []
   },
   "outputs": [],
   "source": [
    "import pandas as pd\n",
    "from scipy.spatial.distance import cdist\n",
    "import warnings\n",
    "from pandas.errors import DtypeWarning\n",
    "from scipy.spatial import cKDTree\n",
    "import numpy as np\n",
    "warnings.simplefilter(action='ignore', category=DtypeWarning)"
   ]
  },
  {
   "cell_type": "code",
   "execution_count": 3,
   "id": "3814b68d-36c0-464a-8c36-b03422e1481f",
   "metadata": {
    "tags": []
   },
   "outputs": [],
   "source": [
    "def idw_interpolation(known_coords, known_values, unknown_coords, power=2):\n",
    "    # 使用已知坐标创建cKDTree对象，以便高效查询最近的邻居\n",
    "    tree = cKDTree(known_coords)\n",
    "    \n",
    "    # 对每个未知点查询其k个最近的邻居，我们这里使用3个邻居\n",
    "    # distances存储到k个最近邻居的距离，indices存储k个最近邻居的索引\n",
    "    distances, indices = tree.query(unknown_coords, k=10)\n",
    "    \n",
    "    # 避免除以零的情况，如果距离为0，将其替换为一个非常小的数\n",
    "    distances[distances == 0] = 1e-10\n",
    "    \n",
    "    # 根据距离的倒数计算权重，权重与距离的倒数成比例\n",
    "    # power参数用于调整权重的影响，power越大，近处的点权重越大\n",
    "    weights = 1 / distances ** power\n",
    "    \n",
    "    # 对权重进行归一化，确保每个未知点的权重总和为1\n",
    "    weights /= weights.sum(axis=1, keepdims=True)\n",
    "    \n",
    "    # 使用权重和已知值计算插值值，采用加权平均的方式\n",
    "    # np.einsum用于执行权重与已知值的加权求和\n",
    "    interpolated_values = np.einsum('ij,ij->i', weights, known_values[indices])\n",
    "    \n",
    "    # 返回插值值\n",
    "    return interpolated_values\n"
   ]
  },
  {
   "cell_type": "code",
   "execution_count": 4,
   "id": "fa14f0cb-5f5e-4810-9882-d4518170e0c7",
   "metadata": {
    "tags": []
   },
   "outputs": [],
   "source": [
    "def perform_idw(group, feature_name):\n",
    "    known_coords = group[['lon_x', 'lat_x']].values  # 已知坐标（站点）\n",
    "    known_values = group[feature_name].values        # 已知值（例如最高温度），使用传入的特性名称\n",
    "    unknown_coords = group[['lon_y', 'lat_y']].drop_duplicates().values # 未知坐标（火点）\n",
    "    interpolated_values = idw_interpolation(known_coords, known_values, unknown_coords) # 执行IDW插值\n",
    "    return pd.DataFrame({  # 返回插值结果\n",
    "        'date': group['date'].iloc[0],\n",
    "        'year': group['year_y'].iloc[0],\n",
    "        'month': group['month_y'].iloc[0],\n",
    "        'day': group['day_y'].iloc[0],\n",
    "        'area': group['area'].iloc[0],\n",
    "        'lon': unknown_coords[:, 0],\n",
    "        'lat': unknown_coords[:, 1],\n",
    "         feature_name: interpolated_values  # 使用特性名称作为列名\n",
    "    })\n"
   ]
  },
  {
   "cell_type": "markdown",
   "id": "06d21d1d-4ebc-4f39-9327-ba1ef73d5d45",
   "metadata": {},
   "source": [
    "火点数据集处理\n",
    "---"
   ]
  },
  {
   "cell_type": "code",
   "execution_count": 5,
   "id": "98654812-3be2-491e-b429-399977f5558c",
   "metadata": {
    "tags": []
   },
   "outputs": [],
   "source": [
    "fire = pd.read_excel(r'/Users/yanyuchen/数据存放/森林火险/fire2010-2017.xls')"
   ]
  },
  {
   "cell_type": "code",
   "execution_count": 6,
   "id": "99c31cf3-0990-4ee7-9463-88dc92d42f6d",
   "metadata": {
    "tags": []
   },
   "outputs": [],
   "source": [
    "provinces = ['辽宁省', '黑龙江省', '吉林省','云南省','四川省','贵州省']\n",
    "fire = fire[fire['地区'].isin(provinces)]\n",
    "name = {'地区':'area',\n",
    "        '图像日期':'time',\n",
    "        '东经':'lon',\n",
    "        '北纬':'lat'\n",
    "}\n",
    "#\n",
    "fire.rename(columns=name, inplace=True)\n",
    "fire['time'] = pd.to_datetime(fire['time'])\n",
    "fire['year'] = fire['time'].dt.year\n",
    "fire['month'] = fire['time'].dt.month\n",
    "fire['day'] = fire['time'].dt.day\n",
    "fire['hour'] = fire['time'].dt.hour\n",
    "fire['date'] = fire['time'].dt.date\n",
    "fire['date'] = pd.to_datetime(fire['date'])"
   ]
  },
  {
   "cell_type": "code",
   "execution_count": 7,
   "id": "f5ecafb9-a96b-40ab-982f-2b01cfa2f8f9",
   "metadata": {
    "tags": []
   },
   "outputs": [
    {
     "data": {
      "text/html": [
       "<div>\n",
       "<style scoped>\n",
       "    .dataframe tbody tr th:only-of-type {\n",
       "        vertical-align: middle;\n",
       "    }\n",
       "\n",
       "    .dataframe tbody tr th {\n",
       "        vertical-align: top;\n",
       "    }\n",
       "\n",
       "    .dataframe thead th {\n",
       "        text-align: right;\n",
       "    }\n",
       "</style>\n",
       "<table border=\"1\" class=\"dataframe\">\n",
       "  <thead>\n",
       "    <tr style=\"text-align: right;\">\n",
       "      <th></th>\n",
       "      <th>area</th>\n",
       "      <th>time</th>\n",
       "      <th>lon</th>\n",
       "      <th>lat</th>\n",
       "      <th>year</th>\n",
       "      <th>month</th>\n",
       "      <th>day</th>\n",
       "      <th>hour</th>\n",
       "      <th>date</th>\n",
       "    </tr>\n",
       "  </thead>\n",
       "  <tbody>\n",
       "    <tr>\n",
       "      <th>4</th>\n",
       "      <td>贵州省</td>\n",
       "      <td>2010-01-03 14:13:00</td>\n",
       "      <td>107.99</td>\n",
       "      <td>28.37</td>\n",
       "      <td>2010</td>\n",
       "      <td>1</td>\n",
       "      <td>3</td>\n",
       "      <td>14</td>\n",
       "      <td>2010-01-03</td>\n",
       "    </tr>\n",
       "    <tr>\n",
       "      <th>5</th>\n",
       "      <td>贵州省</td>\n",
       "      <td>2010-01-03 14:13:00</td>\n",
       "      <td>106.37</td>\n",
       "      <td>26.29</td>\n",
       "      <td>2010</td>\n",
       "      <td>1</td>\n",
       "      <td>3</td>\n",
       "      <td>14</td>\n",
       "      <td>2010-01-03</td>\n",
       "    </tr>\n",
       "    <tr>\n",
       "      <th>6</th>\n",
       "      <td>贵州省</td>\n",
       "      <td>2010-01-03 14:13:00</td>\n",
       "      <td>106.41</td>\n",
       "      <td>27.32</td>\n",
       "      <td>2010</td>\n",
       "      <td>1</td>\n",
       "      <td>3</td>\n",
       "      <td>14</td>\n",
       "      <td>2010-01-03</td>\n",
       "    </tr>\n",
       "    <tr>\n",
       "      <th>7</th>\n",
       "      <td>贵州省</td>\n",
       "      <td>2010-01-03 14:13:00</td>\n",
       "      <td>105.37</td>\n",
       "      <td>26.66</td>\n",
       "      <td>2010</td>\n",
       "      <td>1</td>\n",
       "      <td>3</td>\n",
       "      <td>14</td>\n",
       "      <td>2010-01-03</td>\n",
       "    </tr>\n",
       "    <tr>\n",
       "      <th>10</th>\n",
       "      <td>贵州省</td>\n",
       "      <td>2010-01-03 16:37:00</td>\n",
       "      <td>107.97</td>\n",
       "      <td>28.33</td>\n",
       "      <td>2010</td>\n",
       "      <td>1</td>\n",
       "      <td>3</td>\n",
       "      <td>16</td>\n",
       "      <td>2010-01-03</td>\n",
       "    </tr>\n",
       "  </tbody>\n",
       "</table>\n",
       "</div>"
      ],
      "text/plain": [
       "   area                time     lon    lat  year  month  day  hour       date\n",
       "4   贵州省 2010-01-03 14:13:00  107.99  28.37  2010      1    3    14 2010-01-03\n",
       "5   贵州省 2010-01-03 14:13:00  106.37  26.29  2010      1    3    14 2010-01-03\n",
       "6   贵州省 2010-01-03 14:13:00  106.41  27.32  2010      1    3    14 2010-01-03\n",
       "7   贵州省 2010-01-03 14:13:00  105.37  26.66  2010      1    3    14 2010-01-03\n",
       "10  贵州省 2010-01-03 16:37:00  107.97  28.33  2010      1    3    16 2010-01-03"
      ]
     },
     "execution_count": 7,
     "metadata": {},
     "output_type": "execute_result"
    }
   ],
   "source": [
    "fire.head()"
   ]
  },
  {
   "cell_type": "markdown",
   "id": "030ee9cf-7739-44d4-9b99-bdaea25c6486",
   "metadata": {
    "tags": []
   },
   "source": [
    "站点数据读取\n",
    "---"
   ]
  },
  {
   "cell_type": "code",
   "execution_count": 8,
   "id": "248064ae-66e1-4047-8e30-45e10d843f26",
   "metadata": {
    "tags": []
   },
   "outputs": [],
   "source": [
    "sta = pd.read_csv('/Users/yanyuchen/数据存放/森林火险/dataset.csv')\n",
    "sta['date'] = pd.to_datetime(sta[['year', 'month', 'day']])"
   ]
  },
  {
   "cell_type": "markdown",
   "id": "fc31031c-3d7c-443b-9b5c-61f7912d297f",
   "metadata": {},
   "source": [
    "时间匹配"
   ]
  },
  {
   "cell_type": "code",
   "execution_count": 9,
   "id": "7f1ad33e-ae11-43b3-9068-5fcfaf6d6c18",
   "metadata": {
    "tags": []
   },
   "outputs": [],
   "source": [
    "merged_data = pd.merge(sta, fire, left_on='date', right_on='date', how='inner')\n",
    "#merged_data.to_csv('111.csv')"
   ]
  },
  {
   "cell_type": "code",
   "execution_count": 10,
   "id": "b95937b8-97dc-4a42-a8b5-50b39d340744",
   "metadata": {
    "tags": []
   },
   "outputs": [],
   "source": [
    "#merged_data.head(100).to_csv('100.csv')"
   ]
  },
  {
   "cell_type": "markdown",
   "id": "10db33ef-01d0-4d85-ae0d-71702072d795",
   "metadata": {},
   "source": [
    "插值到火点（IDW）"
   ]
  },
  {
   "cell_type": "code",
   "execution_count": 11,
   "id": "ed35c060-84ff-4d25-86a6-f8e08274b49f",
   "metadata": {
    "tags": []
   },
   "outputs": [
    {
     "name": "stdout",
     "output_type": "stream",
     "text": [
      "['sta', 'Alti', 'year_x', 'month_x', 'day_x', 'TEM_Max', 'TEM_Min', 'RHU_Min', 'PRE_Time_2020', 'Snow_Depth', 'WIN_S_Max', 'lon_x', 'lat_x', 'yth1', 'yth10', 'yth100', 'yth1000', 'kb', 'erc', 'sc', 'bi', 'ic', 'p', 'FFMC', 'DMC', 'DC', 'FWI', 'ISI', 'BUI', 'DSR', 'FFDI', 'date', 'area', 'time', 'lon_y', 'lat_y', 'year_y', 'month_y', 'day_y', 'hour']\n"
     ]
    },
    {
     "data": {
      "text/html": [
       "<div>\n",
       "<style scoped>\n",
       "    .dataframe tbody tr th:only-of-type {\n",
       "        vertical-align: middle;\n",
       "    }\n",
       "\n",
       "    .dataframe tbody tr th {\n",
       "        vertical-align: top;\n",
       "    }\n",
       "\n",
       "    .dataframe thead th {\n",
       "        text-align: right;\n",
       "    }\n",
       "</style>\n",
       "<table border=\"1\" class=\"dataframe\">\n",
       "  <thead>\n",
       "    <tr style=\"text-align: right;\">\n",
       "      <th></th>\n",
       "      <th>date</th>\n",
       "      <th>year</th>\n",
       "      <th>month</th>\n",
       "      <th>day</th>\n",
       "      <th>area</th>\n",
       "      <th>lon</th>\n",
       "      <th>lat</th>\n",
       "      <th>TEM_Max</th>\n",
       "    </tr>\n",
       "  </thead>\n",
       "  <tbody>\n",
       "    <tr>\n",
       "      <th>0</th>\n",
       "      <td>2010-01-03</td>\n",
       "      <td>2010</td>\n",
       "      <td>1</td>\n",
       "      <td>3</td>\n",
       "      <td>贵州省</td>\n",
       "      <td>107.99</td>\n",
       "      <td>28.37</td>\n",
       "      <td>16.0</td>\n",
       "    </tr>\n",
       "    <tr>\n",
       "      <th>1</th>\n",
       "      <td>2010-01-03</td>\n",
       "      <td>2010</td>\n",
       "      <td>1</td>\n",
       "      <td>3</td>\n",
       "      <td>贵州省</td>\n",
       "      <td>106.37</td>\n",
       "      <td>26.29</td>\n",
       "      <td>15.6</td>\n",
       "    </tr>\n",
       "    <tr>\n",
       "      <th>2</th>\n",
       "      <td>2010-01-03</td>\n",
       "      <td>2010</td>\n",
       "      <td>1</td>\n",
       "      <td>3</td>\n",
       "      <td>贵州省</td>\n",
       "      <td>106.41</td>\n",
       "      <td>27.32</td>\n",
       "      <td>16.3</td>\n",
       "    </tr>\n",
       "    <tr>\n",
       "      <th>3</th>\n",
       "      <td>2010-01-03</td>\n",
       "      <td>2010</td>\n",
       "      <td>1</td>\n",
       "      <td>3</td>\n",
       "      <td>贵州省</td>\n",
       "      <td>105.37</td>\n",
       "      <td>26.66</td>\n",
       "      <td>21.5</td>\n",
       "    </tr>\n",
       "    <tr>\n",
       "      <th>4</th>\n",
       "      <td>2010-01-03</td>\n",
       "      <td>2010</td>\n",
       "      <td>1</td>\n",
       "      <td>3</td>\n",
       "      <td>贵州省</td>\n",
       "      <td>107.97</td>\n",
       "      <td>28.33</td>\n",
       "      <td>16.0</td>\n",
       "    </tr>\n",
       "  </tbody>\n",
       "</table>\n",
       "</div>"
      ],
      "text/plain": [
       "        date  year  month  day area     lon    lat  TEM_Max\n",
       "0 2010-01-03  2010      1    3  贵州省  107.99  28.37     16.0\n",
       "1 2010-01-03  2010      1    3  贵州省  106.37  26.29     15.6\n",
       "2 2010-01-03  2010      1    3  贵州省  106.41  27.32     16.3\n",
       "3 2010-01-03  2010      1    3  贵州省  105.37  26.66     21.5\n",
       "4 2010-01-03  2010      1    3  贵州省  107.97  28.33     16.0"
      ]
     },
     "execution_count": 11,
     "metadata": {},
     "output_type": "execute_result"
    }
   ],
   "source": [
    "#要插值的要素\n",
    "# merged_data = pd.read_csv('111.csv')\n",
    "column_names_list = merged_data.columns.tolist()\n",
    "print(column_names_list)\n",
    "column_names = ['Alti', 'TEM_Max', 'TEM_Min', 'RHU_Min', \n",
    "                'PRE_Time_2020', 'Snow_Depth', 'WIN_S_Max', 'yth1', 'yth10', 'yth100', \n",
    "                'yth1000', 'kb', 'erc', 'sc', 'bi', 'ic', 'p', 'FFMC', 'DMC', 'DC', 'FWI', 'ISI', 'BUI', 'DSR', \n",
    "                'FFDI']\n",
    "interpolated_results = merged_data.groupby('date').apply(lambda group: perform_idw(group, 'TEM_Max'))\n",
    "# 重置最终结果的索引\n",
    "interpolated_results.reset_index(drop=True, inplace=True)\n",
    "# 显示插值结果的前几行\n",
    "interpolated_results.head()"
   ]
  },
  {
   "cell_type": "code",
   "execution_count": null,
   "id": "f12c6a35-611e-4dad-b8d6-e5ef75f2d12d",
   "metadata": {},
   "outputs": [],
   "source": []
  },
  {
   "cell_type": "code",
   "execution_count": null,
   "id": "12b17e09-0304-4f50-96c7-51224774ca5a",
   "metadata": {},
   "outputs": [],
   "source": []
  }
 ],
 "metadata": {
  "kernelspec": {
   "display_name": "yyc",
   "language": "python",
   "name": "yyc"
  },
  "language_info": {
   "codemirror_mode": {
    "name": "ipython",
    "version": 3
   },
   "file_extension": ".py",
   "mimetype": "text/x-python",
   "name": "python",
   "nbconvert_exporter": "python",
   "pygments_lexer": "ipython3",
   "version": "3.10.10"
  }
 },
 "nbformat": 4,
 "nbformat_minor": 5
}
