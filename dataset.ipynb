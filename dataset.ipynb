{
 "cells": [
  {
   "cell_type": "code",
   "execution_count": 1,
   "id": "d88e09c2",
   "metadata": {},
   "outputs": [],
   "source": [
    "import os\n",
    "import glob\n",
    "import pandas as pd"
   ]
  },
  {
   "cell_type": "code",
   "execution_count": 2,
   "id": "f1d35f4c",
   "metadata": {},
   "outputs": [],
   "source": [
    "def find_txt_files(directory):\n",
    "    txt_files = []\n",
    "    for root, dirs, files in os.walk(directory):\n",
    "        for file in files:\n",
    "            if file.endswith(\".txt\"):    \n",
    "#                 print(os.path.join(root, file))\n",
    "                txt_files.append(os.path.join(root, file))\n",
    "    return txt_files"
   ]
  },
  {
   "cell_type": "code",
   "execution_count": 3,
   "id": "edb27526",
   "metadata": {},
   "outputs": [],
   "source": [
    "def read_txt_file(file_path):\n",
    "    df = pd.read_csv(file_path, delim_whitespace=True, header=None)\n",
    "    return df"
   ]
  },
  {
   "cell_type": "code",
   "execution_count": 4,
   "id": "9d838e15",
   "metadata": {},
   "outputs": [],
   "source": [
    "def read_txt_file1(file_path):\n",
    "    df = pd.read_csv(file_path, sep=\",\")\n",
    "    return df"
   ]
  },
  {
   "cell_type": "markdown",
   "id": "a657a0d3",
   "metadata": {},
   "source": [
    "火险指数\n",
    "---"
   ]
  },
  {
   "cell_type": "code",
   "execution_count": 10,
   "id": "919df5e0",
   "metadata": {},
   "outputs": [],
   "source": [
    "txt_files = find_txt_files('C:\\\\Users\\\\HTHT\\\\Desktop\\\\建模数据\\\\model_CHINA')\n",
    "\n",
    "dataframes = []  \n",
    "for txt_file in txt_files:\n",
    "    df = read_txt_file(txt_file)\n",
    "    dataframes.append(df)\n",
    "df_CHINA = pd.concat(dataframes)  \n",
    "df_CHINA.columns =['sta','lon','lat','year','month','day','FFDI']    "
   ]
  },
  {
   "cell_type": "code",
   "execution_count": 11,
   "id": "d745bd45",
   "metadata": {},
   "outputs": [
    {
     "data": {
      "text/html": [
       "<div>\n",
       "<style scoped>\n",
       "    .dataframe tbody tr th:only-of-type {\n",
       "        vertical-align: middle;\n",
       "    }\n",
       "\n",
       "    .dataframe tbody tr th {\n",
       "        vertical-align: top;\n",
       "    }\n",
       "\n",
       "    .dataframe thead th {\n",
       "        text-align: right;\n",
       "    }\n",
       "</style>\n",
       "<table border=\"1\" class=\"dataframe\">\n",
       "  <thead>\n",
       "    <tr style=\"text-align: right;\">\n",
       "      <th></th>\n",
       "      <th>sta</th>\n",
       "      <th>lon</th>\n",
       "      <th>lat</th>\n",
       "      <th>year</th>\n",
       "      <th>month</th>\n",
       "      <th>day</th>\n",
       "      <th>FFDI</th>\n",
       "    </tr>\n",
       "  </thead>\n",
       "  <tbody>\n",
       "    <tr>\n",
       "      <th>0</th>\n",
       "      <td>50136</td>\n",
       "      <td>122.52</td>\n",
       "      <td>52.97</td>\n",
       "      <td>2010</td>\n",
       "      <td>1</td>\n",
       "      <td>1</td>\n",
       "      <td>0.0</td>\n",
       "    </tr>\n",
       "    <tr>\n",
       "      <th>1</th>\n",
       "      <td>50246</td>\n",
       "      <td>124.72</td>\n",
       "      <td>52.35</td>\n",
       "      <td>2010</td>\n",
       "      <td>1</td>\n",
       "      <td>1</td>\n",
       "      <td>0.0</td>\n",
       "    </tr>\n",
       "    <tr>\n",
       "      <th>2</th>\n",
       "      <td>50247</td>\n",
       "      <td>123.57</td>\n",
       "      <td>52.03</td>\n",
       "      <td>2010</td>\n",
       "      <td>1</td>\n",
       "      <td>1</td>\n",
       "      <td>0.0</td>\n",
       "    </tr>\n",
       "    <tr>\n",
       "      <th>3</th>\n",
       "      <td>50349</td>\n",
       "      <td>124.33</td>\n",
       "      <td>51.70</td>\n",
       "      <td>2010</td>\n",
       "      <td>1</td>\n",
       "      <td>1</td>\n",
       "      <td>0.0</td>\n",
       "    </tr>\n",
       "    <tr>\n",
       "      <th>4</th>\n",
       "      <td>50353</td>\n",
       "      <td>126.65</td>\n",
       "      <td>51.72</td>\n",
       "      <td>2010</td>\n",
       "      <td>1</td>\n",
       "      <td>1</td>\n",
       "      <td>0.0</td>\n",
       "    </tr>\n",
       "  </tbody>\n",
       "</table>\n",
       "</div>"
      ],
      "text/plain": [
       "     sta     lon    lat  year  month  day  FFDI\n",
       "0  50136  122.52  52.97  2010      1    1   0.0\n",
       "1  50246  124.72  52.35  2010      1    1   0.0\n",
       "2  50247  123.57  52.03  2010      1    1   0.0\n",
       "3  50349  124.33  51.70  2010      1    1   0.0\n",
       "4  50353  126.65  51.72  2010      1    1   0.0"
      ]
     },
     "execution_count": 11,
     "metadata": {},
     "output_type": "execute_result"
    }
   ],
   "source": [
    "df_CHINA.head()"
   ]
  },
  {
   "cell_type": "markdown",
   "id": "31f40e36",
   "metadata": {},
   "source": [
    "美国模型\n",
    "---"
   ]
  },
  {
   "cell_type": "code",
   "execution_count": null,
   "id": "ec2fd014",
   "metadata": {},
   "outputs": [],
   "source": [
    "txt_files = find_txt_files(\"C:\\\\Users\\\\HTHT\\\\Desktop\\\\建模数据\\\\model_USA\")\n",
    "dataframes = []  \n",
    "for txt_file in txt_files:\n",
    "    df = read_txt_file(txt_file)\n",
    "    dataframes.append(df)\n",
    "df_USA = pd.concat(dataframes)  \n",
    "df_USA.columns =['sta','lon','lat','yth1','yth10','yth100','yth1000','kb','erc','sc','bi','ic','p']    \n"
   ]
  },
  {
   "cell_type": "markdown",
   "id": "12575e6a",
   "metadata": {},
   "source": [
    "加拿大\n",
    "---"
   ]
  },
  {
   "cell_type": "code",
   "execution_count": null,
   "id": "6744b5fa",
   "metadata": {},
   "outputs": [],
   "source": [
    "txt_files = find_txt_files(\"C:\\\\Users\\\\HTHT\\\\Desktop\\\\建模数据\\\\model_CANADA\")\n",
    "dataframes = []  \n",
    "for txt_file in txt_files:\n",
    "    df = read_txt_file(txt_file)\n",
    "    dataframes.append(df)\n",
    "df_CANADA = pd.concat(dataframes)  \n",
    "df_CANADA.columns =['sta','lon','lat','FFMC','DMC','DC','FWI','ISI','BUI','DSR']    "
   ]
  },
  {
   "cell_type": "markdown",
   "id": "256ad861",
   "metadata": {},
   "source": [
    "实况\n",
    "---"
   ]
  },
  {
   "cell_type": "code",
   "execution_count": null,
   "id": "267378ee",
   "metadata": {},
   "outputs": [],
   "source": [
    "txt_files = find_txt_files(\"C:\\\\Users\\\\HTHT\\\\Desktop\\\\建模数据\\\\气象站观测/data\")\n",
    "dataframes = []  \n",
    "for txt_file in txt_files:\n",
    "    df = read_txt_file1(txt_file)\n",
    "    dataframes.append(df)\n",
    "df_obs = pd.concat(dataframes)  \n",
    "df_obs.columns =['sta','lat','lon',\"Alti\", \"Year\", \"Mon\", \"Day\", \"TEM_Max\",\"TEM_Min\",\"RHU_Min\", \"PRE_Time_2020\", \"Snow_Depth\", \"WIN_S_Max\"]   "
   ]
  },
  {
   "cell_type": "code",
   "execution_count": null,
   "id": "b659da7a",
   "metadata": {},
   "outputs": [],
   "source": [
    "df_obs.head()"
   ]
  },
  {
   "cell_type": "markdown",
   "id": "4e2f0e04",
   "metadata": {},
   "source": [
    "匹配\n",
    "---"
   ]
  },
  {
   "cell_type": "code",
   "execution_count": null,
   "id": "617ab5c4",
   "metadata": {},
   "outputs": [],
   "source": [
    "df_USA = df_USA.drop_duplicates(subset= ['sta'],keep='first',inplace=False)\n",
    "df_CANADA = df_CANADA.drop_duplicates(subset= ['sta'],keep='first',inplace=False)\n",
    "merged_uc = df_USA.merge(df_CANADA, on=['sta', 'lon', 'lat'])"
   ]
  },
  {
   "cell_type": "code",
   "execution_count": null,
   "id": "cb0b2136",
   "metadata": {},
   "outputs": [],
   "source": [
    "merged_uc = merged_uc.drop(columns=['lon', 'lat'])\n",
    "merged_all =merged_uc.merge(df_CHINA, on = ['sta'])\n",
    "merged_all = merged_all.drop_duplicates(subset= ['sta'],keep='first',inplace=False)"
   ]
  },
  {
   "cell_type": "code",
   "execution_count": null,
   "id": "2c32529b",
   "metadata": {},
   "outputs": [],
   "source": [
    "merged_all"
   ]
  },
  {
   "cell_type": "code",
   "execution_count": null,
   "id": "3ed2295b",
   "metadata": {},
   "outputs": [],
   "source": []
  }
 ],
 "metadata": {
  "kernelspec": {
   "display_name": "YYC",
   "language": "python",
   "name": "yyc"
  },
  "language_info": {
   "codemirror_mode": {
    "name": "ipython",
    "version": 3
   },
   "file_extension": ".py",
   "mimetype": "text/x-python",
   "name": "python",
   "nbconvert_exporter": "python",
   "pygments_lexer": "ipython3",
   "version": "3.8.16"
  }
 },
 "nbformat": 4,
 "nbformat_minor": 5
}
