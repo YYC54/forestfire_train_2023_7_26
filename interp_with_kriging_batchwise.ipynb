{
 "cells": [
  {
   "cell_type": "code",
   "execution_count": 1,
   "id": "2c11c9a4-769a-486d-9f30-37adfb64cf81",
   "metadata": {
    "tags": []
   },
   "outputs": [],
   "source": [
    "import pandas as pd\n",
    "from datetime import timedelta\n",
    "from scipy.spatial.distance import cdist\n",
    "import warnings\n",
    "from pandas.errors import DtypeWarning\n",
    "from scipy.spatial import cKDTree\n",
    "import numpy as np\n",
    "from pykrige.ok import OrdinaryKriging\n",
    "warnings.simplefilter(action='ignore', category=DtypeWarning)\n",
    "warnings.filterwarnings('ignore')"
   ]
  },
  {
   "cell_type": "code",
   "execution_count": 2,
   "id": "3814b68d-36c0-464a-8c36-b03422e1481f",
   "metadata": {
    "tags": []
   },
   "outputs": [],
   "source": [
    "def kriging_interpolation(known_coords, known_values, unknown_coords):\n",
    "    # Extract the latitude and longitude from the known coordinates\n",
    "    lons = known_coords[:, 0]\n",
    "    lats = known_coords[:, 1]\n",
    "\n",
    "    # Create an OrdinaryKriging object\n",
    "    OK = OrdinaryKriging(\n",
    "        lons, lats, known_values, variogram_model='linear',\n",
    "        verbose=False, enable_plotting=False\n",
    "    )\n",
    "\n",
    "    # Extract the latitude and longitude for the unknown coordinates\n",
    "    unknown_lons = unknown_coords[:, 0]\n",
    "    unknown_lats = unknown_coords[:, 1]\n",
    "    print(len(unknown_lons))\n",
    "    print(len(unknown_lats))\n",
    "    # Perform the Kriging interpolation\n",
    "    z, ss = OK.execute('grid', unknown_lons, unknown_lats)\n",
    "    # Return the interpolated values\n",
    "    return z.flatten()"
   ]
  },
  {
   "cell_type": "code",
   "execution_count": 3,
   "id": "fa14f0cb-5f5e-4810-9882-d4518170e0c7",
   "metadata": {
    "tags": []
   },
   "outputs": [],
   "source": [
    "\n",
    "def perform_kriging_batchwise(group, feature_name, batch_size=100):\n",
    "    results = []\n",
    "    if feature_name =='ic':\n",
    "        group[feature_name] = pd.to_numeric(group[feature_name], errors='coerce')\n",
    "\n",
    "    known_coords = group[['lon_x', 'lat_x']].values  # Known coordinates (stations)\n",
    "    known_values = group[feature_name].values        # Known values, using the passed feature name\n",
    "    known_values = known_values.astype(float)\n",
    "    \n",
    "    # Split the unknown coordinates into batches\n",
    "    unknown_coords = group[['lon_y', 'lat_y']].drop_duplicates().values  # Unknown coordinates (fire points)\n",
    "    print(unknown_coords)\n",
    "    total_points = len(unknown_coords)\n",
    "    \n",
    "    for i in range(0, total_points, batch_size):\n",
    "        batch_coords = unknown_coords[i:i+batch_size]\n",
    "        n = len(batch_coords)\n",
    "        interpolated_values = kriging_interpolation(known_coords, known_values, batch_coords)  # Perform Kriging interpolation\n",
    "        # print(batch_coords)\n",
    "        # print(interpolated_values)\n",
    "        # # interpolated_values = interpolated_values[:n]\n",
    "        # print(\"Length of batch_coords:\", len(batch_coords))\n",
    "        # print(\"Length of interpolated_values:\", len(interpolated_values))\n",
    "\n",
    "        batch_result = pd.DataFrame({  # Return interpolation result\n",
    "            'date': group['date'].iloc[0],\n",
    "            'year': group['year_y'].iloc[0],\n",
    "            'month': group['month_y'].iloc[0],\n",
    "            'day': group['day_y'].iloc[0],\n",
    "            'area': group['area'].iloc[0],\n",
    "            'lon': batch_coords[:, 0],\n",
    "            'lat': batch_coords[:, 1],\n",
    "            'fire': group['fire'].iloc[0],\n",
    "            feature_name: interpolated_values  # Use feature name as the column name\n",
    "        })\n",
    "        results.append(batch_result)\n",
    "    \n",
    "    return pd.concat(results, ignore_index=True)\n"
   ]
  },
  {
   "cell_type": "markdown",
   "id": "06d21d1d-4ebc-4f39-9327-ba1ef73d5d45",
   "metadata": {},
   "source": [
    "火点数据集处理\n",
    "---"
   ]
  },
  {
   "cell_type": "code",
   "execution_count": 4,
   "id": "98654812-3be2-491e-b429-399977f5558c",
   "metadata": {
    "tags": []
   },
   "outputs": [],
   "source": [
    "fire = pd.read_excel('fire2010-2017.xls')\n",
    "fire['fire'] = 1\n",
    "# 时间序列扩充\n",
    "new_rows_list = []\n",
    "\n",
    "# 遍历所有唯一的火灾日期\n",
    "for fire_date in fire['图像日期'].unique():\n",
    "    fire_rows = fire[fire['图像日期'] == fire_date]\n",
    "    \n",
    "    # 检查前两天和后一天的窗口\n",
    "    for offset in range(-10, 10):\n",
    "        new_fire_date = pd.Timestamp(fire_date) + timedelta(days=offset)\n",
    "        \n",
    "        # 检查新日期是否已存在数据\n",
    "        existing_rows = fire[fire['图像日期'] == new_fire_date]\n",
    "        \n",
    "        if existing_rows.empty:  # 如果不存在数据，则创建新行\n",
    "            new_fire_rows = fire_rows.copy()\n",
    "            new_fire_rows['图像日期'] = new_fire_date\n",
    "            new_fire_rows['fire'] = 0\n",
    "            new_rows_list.append(new_fire_rows)\n",
    "        else:  # 如果存在数据，则使用原有数据\n",
    "            new_rows_list.append(existing_rows)\n",
    "\n",
    "# 使用pandas.concat合并所有新行\n",
    "new_rows = pd.concat(new_rows_list, ignore_index=True)\n",
    "\n",
    "extended_fire_data = pd.concat([fire, new_rows], ignore_index=True).drop_duplicates()\n",
    "# extended_fire_data.to_csv(r'E:\\dataset\\fire2010-2017_new.csv')"
   ]
  },
  {
   "cell_type": "code",
   "execution_count": 5,
   "id": "99c31cf3-0990-4ee7-9463-88dc92d42f6d",
   "metadata": {
    "tags": []
   },
   "outputs": [],
   "source": [
    "provinces = ['辽宁省', '黑龙江省', '吉林省']\n",
    "fire = extended_fire_data[extended_fire_data['地区'].isin(provinces)].copy()\n",
    "\n",
    "name_mapping = {\n",
    "    '地区': 'area',\n",
    "    '图像日期': 'time',\n",
    "    '东经': 'lon',\n",
    "    '北纬': 'lat',\n",
    "    'fire': 'fire'\n",
    "}\n",
    "fire.rename(columns=name_mapping, inplace=True)\n",
    "\n",
    "# 转换时间列并添加时间特征\n",
    "fire['time'] = pd.to_datetime(fire['time'])\n",
    "fire['year'] = fire['time'].dt.year\n",
    "fire['month'] = fire['time'].dt.month\n",
    "fire['day'] = fire['time'].dt.day\n",
    "fire['hour'] = fire['time'].dt.hour\n",
    "fire['date'] = fire['time'].dt.date\n",
    "fire['date'] = pd.to_datetime(fire['date'])"
   ]
  },
  {
   "cell_type": "code",
   "execution_count": 6,
   "id": "f5ecafb9-a96b-40ab-982f-2b01cfa2f8f9",
   "metadata": {
    "tags": []
   },
   "outputs": [
    {
     "data": {
      "text/html": [
       "<div>\n",
       "<style scoped>\n",
       "    .dataframe tbody tr th:only-of-type {\n",
       "        vertical-align: middle;\n",
       "    }\n",
       "\n",
       "    .dataframe tbody tr th {\n",
       "        vertical-align: top;\n",
       "    }\n",
       "\n",
       "    .dataframe thead th {\n",
       "        text-align: right;\n",
       "    }\n",
       "</style>\n",
       "<table border=\"1\" class=\"dataframe\">\n",
       "  <thead>\n",
       "    <tr style=\"text-align: right;\">\n",
       "      <th></th>\n",
       "      <th>area</th>\n",
       "      <th>time</th>\n",
       "      <th>lon</th>\n",
       "      <th>lat</th>\n",
       "      <th>fire</th>\n",
       "      <th>year</th>\n",
       "      <th>month</th>\n",
       "      <th>day</th>\n",
       "      <th>hour</th>\n",
       "      <th>date</th>\n",
       "    </tr>\n",
       "  </thead>\n",
       "  <tbody>\n",
       "    <tr>\n",
       "      <th>2164</th>\n",
       "      <td>辽宁省</td>\n",
       "      <td>2010-03-10 12:41:00</td>\n",
       "      <td>120.1782</td>\n",
       "      <td>40.9771</td>\n",
       "      <td>1</td>\n",
       "      <td>2010</td>\n",
       "      <td>3</td>\n",
       "      <td>10</td>\n",
       "      <td>12</td>\n",
       "      <td>2010-03-10</td>\n",
       "    </tr>\n",
       "    <tr>\n",
       "      <th>2833</th>\n",
       "      <td>辽宁省</td>\n",
       "      <td>2010-03-30 10:18:00</td>\n",
       "      <td>122.3467</td>\n",
       "      <td>40.4534</td>\n",
       "      <td>1</td>\n",
       "      <td>2010</td>\n",
       "      <td>3</td>\n",
       "      <td>30</td>\n",
       "      <td>10</td>\n",
       "      <td>2010-03-30</td>\n",
       "    </tr>\n",
       "    <tr>\n",
       "      <th>2834</th>\n",
       "      <td>辽宁省</td>\n",
       "      <td>2010-03-30 11:23:00</td>\n",
       "      <td>122.3741</td>\n",
       "      <td>40.4504</td>\n",
       "      <td>1</td>\n",
       "      <td>2010</td>\n",
       "      <td>3</td>\n",
       "      <td>30</td>\n",
       "      <td>11</td>\n",
       "      <td>2010-03-30</td>\n",
       "    </tr>\n",
       "    <tr>\n",
       "      <th>2837</th>\n",
       "      <td>辽宁省</td>\n",
       "      <td>2010-04-01 13:07:00</td>\n",
       "      <td>121.3900</td>\n",
       "      <td>41.4604</td>\n",
       "      <td>1</td>\n",
       "      <td>2010</td>\n",
       "      <td>4</td>\n",
       "      <td>1</td>\n",
       "      <td>13</td>\n",
       "      <td>2010-04-01</td>\n",
       "    </tr>\n",
       "    <tr>\n",
       "      <th>2838</th>\n",
       "      <td>辽宁省</td>\n",
       "      <td>2010-04-01 13:49:00</td>\n",
       "      <td>121.3935</td>\n",
       "      <td>41.4570</td>\n",
       "      <td>1</td>\n",
       "      <td>2010</td>\n",
       "      <td>4</td>\n",
       "      <td>1</td>\n",
       "      <td>13</td>\n",
       "      <td>2010-04-01</td>\n",
       "    </tr>\n",
       "  </tbody>\n",
       "</table>\n",
       "</div>"
      ],
      "text/plain": [
       "     area                time       lon      lat  fire  year  month  day  \\\n",
       "2164  辽宁省 2010-03-10 12:41:00  120.1782  40.9771     1  2010      3   10   \n",
       "2833  辽宁省 2010-03-30 10:18:00  122.3467  40.4534     1  2010      3   30   \n",
       "2834  辽宁省 2010-03-30 11:23:00  122.3741  40.4504     1  2010      3   30   \n",
       "2837  辽宁省 2010-04-01 13:07:00  121.3900  41.4604     1  2010      4    1   \n",
       "2838  辽宁省 2010-04-01 13:49:00  121.3935  41.4570     1  2010      4    1   \n",
       "\n",
       "      hour       date  \n",
       "2164    12 2010-03-10  \n",
       "2833    10 2010-03-30  \n",
       "2834    11 2010-03-30  \n",
       "2837    13 2010-04-01  \n",
       "2838    13 2010-04-01  "
      ]
     },
     "execution_count": 6,
     "metadata": {},
     "output_type": "execute_result"
    }
   ],
   "source": [
    "fire.head()"
   ]
  },
  {
   "cell_type": "markdown",
   "id": "030ee9cf-7739-44d4-9b99-bdaea25c6486",
   "metadata": {
    "tags": []
   },
   "source": [
    "站点数据读取\n",
    "---"
   ]
  },
  {
   "cell_type": "code",
   "execution_count": 7,
   "id": "248064ae-66e1-4047-8e30-45e10d843f26",
   "metadata": {
    "tags": []
   },
   "outputs": [],
   "source": [
    "sta = pd.read_csv('dataset.csv')\n",
    "sta['date'] = pd.to_datetime(sta[['year', 'month', 'day']])"
   ]
  },
  {
   "cell_type": "markdown",
   "id": "fc31031c-3d7c-443b-9b5c-61f7912d297f",
   "metadata": {},
   "source": [
    "时间匹配"
   ]
  },
  {
   "cell_type": "code",
   "execution_count": 8,
   "id": "7f1ad33e-ae11-43b3-9068-5fcfaf6d6c18",
   "metadata": {
    "tags": []
   },
   "outputs": [
    {
     "name": "stdout",
     "output_type": "stream",
     "text": [
      "            sta   Alti  year_x  month_x  day_x  TEM_Max  TEM_Min  RHU_Min  \\\n",
      "0         50136  433.0    2010        2     28    -13.0    -40.8       23   \n",
      "1         50246  361.9    2010        2     28    -12.9    -37.0       27   \n",
      "2         50247  514.5    2010        2     28    -12.8    -38.5       24   \n",
      "3         50349  494.6    2010        2     28    -12.3    -33.0       27   \n",
      "4         50353  177.4    2010        2     28    -13.1    -28.7       30   \n",
      "...         ...    ...     ...      ...    ...      ...      ...      ...   \n",
      "38453077  59951   39.9    2017        7      3     30.8     25.3       73   \n",
      "38453078  59954   35.2    2017        7      3     31.4     25.9       68   \n",
      "38453079  59954   35.2    2017        7      3     31.4     25.9       68   \n",
      "38453080  59954   35.2    2017        7      3     31.4     25.9       68   \n",
      "38453081  59954   35.2    2017        7      3     31.4     25.9       68   \n",
      "\n",
      "          PRE_Time_2020  Snow_Depth  ...  area                time     lon_y  \\\n",
      "0                   0.0        29.0  ...   辽宁省 2010-02-28 12:41:00  120.1782   \n",
      "1                   0.0        24.0  ...   辽宁省 2010-02-28 12:41:00  120.1782   \n",
      "2                   0.0        20.0  ...   辽宁省 2010-02-28 12:41:00  120.1782   \n",
      "3                   0.0        17.0  ...   辽宁省 2010-02-28 12:41:00  120.1782   \n",
      "4                   0.0        16.0  ...   辽宁省 2010-02-28 12:41:00  120.1782   \n",
      "...                 ...         ...  ...   ...                 ...       ...   \n",
      "38453077           19.7         0.0  ...  黑龙江省 2017-07-03 10:55:00  123.3894   \n",
      "38453078            0.2         0.0  ...  黑龙江省 2017-07-03 03:27:00  123.4125   \n",
      "38453079            0.2         0.0  ...  黑龙江省 2017-07-03 06:48:00  123.4792   \n",
      "38453080            0.2         0.0  ...  黑龙江省 2017-07-03 08:05:00  123.4472   \n",
      "38453081            0.2         0.0  ...  黑龙江省 2017-07-03 10:55:00  123.3894   \n",
      "\n",
      "            lat_y  fire  year_y  month_y  day_y  hour   distance  \n",
      "0         40.9771     0    2010        2     28    12  12.219398  \n",
      "1         40.9771     0    2010        2     28    12  12.246257  \n",
      "2         40.9771     0    2010        2     28    12  11.561613  \n",
      "3         40.9771     0    2010        2     28    12  11.498610  \n",
      "4         40.9771     0    2010        2     28    12  12.541694  \n",
      "...           ...   ...     ...      ...    ...   ...        ...  \n",
      "38453077  52.0151     0    2017        7      3    10  35.690206  \n",
      "38453078  52.0039     0    2017        7      3     3  36.031302  \n",
      "38453079  52.0085     0    2017        7      3     6  36.060397  \n",
      "38453080  52.0499     0    2017        7      3     8  36.086903  \n",
      "38453081  52.0151     0    2017        7      3    10  36.033130  \n",
      "\n",
      "[38453082 rows x 42 columns]\n"
     ]
    }
   ],
   "source": [
    "merged_data = pd.merge(sta, fire, left_on='date', right_on='date', how='inner')\n",
    "merged_data['distance'] = np.sqrt((merged_data['lon_x'] - merged_data['lon_y'])**2 + \n",
    "                                  (merged_data['lat_x'] - merged_data['lat_y'])**2)\n",
    "\n",
    "print(merged_data)"
   ]
  },
  {
   "cell_type": "code",
   "execution_count": 15,
   "id": "7c3c6d96-f698-488f-83bc-d504565bd1be",
   "metadata": {
    "tags": []
   },
   "outputs": [],
   "source": [
    "merged_data = merged_data.sort_values(by=['date','area', 'distance']).drop_duplicates(subset='date', keep='first')\n",
    "# merged_data = merged_data.drop('distance', axis=1, inplace=True)"
   ]
  },
  {
   "cell_type": "code",
   "execution_count": 16,
   "id": "0e97347e-7fe3-4f1b-a925-2352bfc06e88",
   "metadata": {
    "tags": []
   },
   "outputs": [
    {
     "name": "stdout",
     "output_type": "stream",
     "text": [
      "            sta   Alti  year_x  month_x  day_x  TEM_Max  TEM_Min  RHU_Min  \\\n",
      "647       54325  183.8    2010        2     28     -1.3     -6.9       16   \n",
      "2882      54325  183.8    2010        3      1     -0.1     -9.9       14   \n",
      "5117      54325  183.8    2010        3      2      6.1     -7.0       14   \n",
      "7352      54325  183.8    2010        3      3      6.9    -11.9       20   \n",
      "9587      54325  183.8    2010        3      4      8.7      1.4       22   \n",
      "...         ...    ...     ...      ...    ...      ...      ...      ...   \n",
      "38372714  50247  514.5    2017        6     29     26.6     15.0       46   \n",
      "38390578  50247  514.5    2017        6     30     25.5     13.2       52   \n",
      "38408442  50247  514.5    2017        7      1     28.9     11.5       37   \n",
      "38426306  50247  514.5    2017        7      2     32.5     11.6       16   \n",
      "38444158  50247  514.5    2017        7      3     34.0      9.5       20   \n",
      "\n",
      "          PRE_Time_2020  Snow_Depth  ...  area                time     lon_y  \\\n",
      "647            999990.0         0.0  ...   辽宁省 2010-02-28 12:41:00  120.1782   \n",
      "2882                0.0         0.0  ...   辽宁省 2010-03-01 12:41:00  120.1782   \n",
      "5117                0.0         0.0  ...   辽宁省 2010-03-02 12:41:00  120.1782   \n",
      "7352                0.0         0.0  ...   辽宁省 2010-03-03 12:41:00  120.1782   \n",
      "9587                0.0         0.0  ...   辽宁省 2010-03-04 12:41:00  120.1782   \n",
      "...                 ...         ...  ...   ...                 ...       ...   \n",
      "38372714            0.0         0.0  ...  黑龙江省 2017-06-29 03:27:00  123.4125   \n",
      "38390578            1.0         0.0  ...  黑龙江省 2017-06-30 03:27:00  123.4125   \n",
      "38408442            0.0         0.0  ...  黑龙江省 2017-07-01 03:27:00  123.4125   \n",
      "38426306            0.0         0.0  ...  黑龙江省 2017-07-02 03:27:00  123.4125   \n",
      "38444158            0.0         0.0  ...  黑龙江省 2017-07-03 03:27:00  123.4125   \n",
      "\n",
      "            lat_y  fire  year_y  month_y  day_y  hour  distance  \n",
      "647       40.9771     0    2010        2     28    12  0.265864  \n",
      "2882      40.9771     0    2010        3      1    12  0.265864  \n",
      "5117      40.9771     0    2010        3      2    12  0.265864  \n",
      "7352      40.9771     0    2010        3      3    12  0.265864  \n",
      "9587      40.9771     0    2010        3      4    12  0.265864  \n",
      "...           ...   ...     ...      ...    ...   ...       ...  \n",
      "38372714  52.0039     0    2017        6     29     3  0.159648  \n",
      "38390578  52.0039     0    2017        6     30     3  0.159648  \n",
      "38408442  52.0039     0    2017        7      1     3  0.159648  \n",
      "38426306  52.0039     0    2017        7      2     3  0.159648  \n",
      "38444158  52.0039     0    2017        7      3     3  0.159648  \n",
      "\n",
      "[979 rows x 42 columns]\n"
     ]
    }
   ],
   "source": [
    "\n",
    "\n",
    "print(merged_data)\n",
    "# merged_data.head(100).to_csv('100.csv')"
   ]
  },
  {
   "cell_type": "markdown",
   "id": "10db33ef-01d0-4d85-ae0d-71702072d795",
   "metadata": {},
   "source": [
    "插值到火点（kriging）"
   ]
  },
  {
   "cell_type": "code",
   "execution_count": null,
   "id": "ed35c060-84ff-4d25-86a6-f8e08274b49f",
   "metadata": {
    "tags": []
   },
   "outputs": [
    {
     "name": "stdout",
     "output_type": "stream",
     "text": [
      "['sta', 'Alti', 'year_x', 'month_x', 'day_x', 'TEM_Max', 'TEM_Min', 'RHU_Min', 'PRE_Time_2020', 'Snow_Depth', 'WIN_S_Max', 'lon_x', 'lat_x', 'yth1', 'yth10', 'yth100', 'yth1000', 'kb', 'erc', 'sc', 'bi', 'ic', 'p', 'FFMC', 'DMC', 'DC', 'FWI', 'ISI', 'BUI', 'DSR', 'FFDI', 'date', 'area', 'time', 'lon_y', 'lat_y', 'fire', 'year_y', 'month_y', 'day_y', 'hour', 'distance']\n",
      "date\n",
      "2010-02-28    1\n",
      "2010-03-01    1\n",
      "2010-03-02    1\n",
      "2010-03-03    1\n",
      "2010-03-04    1\n",
      "             ..\n",
      "2017-06-29    1\n",
      "2017-06-30    1\n",
      "2017-07-01    1\n",
      "2017-07-02    1\n",
      "2017-07-03    1\n",
      "Length: 979, dtype: int64\n",
      "[[120.1782  40.9771]]\n"
     ]
    }
   ],
   "source": [
    "#要插值的要素\n",
    "# 'Alti', 'TEM_Max', 'TEM_Min', \n",
    "#                 'RHU_Min', 'PRE_Time_2020', 'Snow_Depth', 'WIN_S_Max',  \n",
    "#                 'yth1', 'yth10', 'yth100', 'yth1000', 'kb', 'erc', 'sc', 'bi', 'p', \n",
    "#                 'FFMC', 'DMC', 'DC', 'FWI', 'ISI', 'BUI', 'DSR', 'FFDI',\n",
    "column_names_list = merged_data.columns.tolist()\n",
    "print(column_names_list)\n",
    "column_names = [ 'Alti', 'TEM_Max', 'TEM_Min', \n",
    "                'RHU_Min', 'PRE_Time_2020', 'Snow_Depth', 'WIN_S_Max',  \n",
    "                'yth1', 'yth10', 'yth100', 'yth1000', 'kb', 'erc', 'sc', 'bi', 'p', \n",
    "                'FFMC', 'DMC', 'DC', 'FWI', 'ISI', 'BUI', 'DSR', 'FFDI','ic'\n",
    "               \n",
    "                ]\n",
    "\n",
    "# 初始化最终插值结果的DataFrame\n",
    "final_interpolated_results = None\n",
    "\n",
    "# 循环遍历每个要素，并执行插值\n",
    "for column_name in column_names:\n",
    "    # 对当前要素执行插值\n",
    "    print(merged_data.groupby('date').size())\n",
    "    interpolated_results = merged_data.groupby('date').apply(lambda group: perform_kriging_batchwise(group, column_name))\n",
    "    # 重置索引\n",
    "    interpolated_results.reset_index(drop=True, inplace=True)\n",
    "    \n",
    "    # 将插值结果合并到最终结果DataFrame\n",
    "    if final_interpolated_results is None:\n",
    "        final_interpolated_results = interpolated_results\n",
    "    else:\n",
    "        final_interpolated_results = final_interpolated_results.merge(interpolated_results, on=['date', 'lon', 'lat','year',\n",
    "                                                                                               'month','day','area','fire'])\n",
    "final_interpolated_results.to_csv('fire_point_data.csv')"
   ]
  },
  {
   "cell_type": "code",
   "execution_count": null,
   "id": "8609d195-cd9e-4bbd-8605-07b882a69cd9",
   "metadata": {},
   "outputs": [],
   "source": []
  },
  {
   "cell_type": "code",
   "execution_count": null,
   "id": "ba30b923-5506-4151-b326-642fae5ca495",
   "metadata": {},
   "outputs": [],
   "source": []
  },
  {
   "cell_type": "code",
   "execution_count": null,
   "id": "e9c94abe-87f2-4315-826b-1144880ebf1e",
   "metadata": {},
   "outputs": [],
   "source": []
  }
 ],
 "metadata": {
  "kernelspec": {
   "display_name": "daily",
   "language": "python",
   "name": "daily"
  },
  "language_info": {
   "codemirror_mode": {
    "name": "ipython",
    "version": 3
   },
   "file_extension": ".py",
   "mimetype": "text/x-python",
   "name": "python",
   "nbconvert_exporter": "python",
   "pygments_lexer": "ipython3",
   "version": "3.8.17"
  },
  "widgets": {
   "application/vnd.jupyter.widget-state+json": {
    "state": {},
    "version_major": 2,
    "version_minor": 0
   }
  }
 },
 "nbformat": 4,
 "nbformat_minor": 5
}
