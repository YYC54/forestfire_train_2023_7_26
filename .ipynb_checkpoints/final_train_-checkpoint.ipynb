{
 "cells": [
  {
   "cell_type": "code",
   "execution_count": 1,
   "id": "c4fcdb9b-efbb-4b0b-8406-3b4a02975b4a",
   "metadata": {
    "tags": []
   },
   "outputs": [],
   "source": [
    "import pandas as pd\n",
    "from sklearn.model_selection import train_test_split\n",
    "from sklearn.ensemble import RandomForestClassifier\n",
    "from sklearn.metrics import accuracy_score, classification_report\n",
    "from sklearn.preprocessing import LabelEncoder\n",
    "import xgboost as xgb\n",
    "from sklearn.metrics import accuracy_score\n",
    "from sklearn.preprocessing import StandardScaler\n",
    "from tqdm import tqdm\n",
    "import meteva as mem\n",
    "from meteva.method import pc\n",
    "from sklearn.feature_selection import mutual_info_classif\n",
    "import numpy as np\n",
    "from sklearn.preprocessing import StandardScaler\n",
    "from sklearn.preprocessing import PolynomialFeatures\n",
    "from sklearn.model_selection import GridSearchCV\n",
    "from sklearn.metrics import confusion_matrix, precision_score, recall_score, f1_score, roc_curve, auc\n",
    "import matplotlib.pyplot as plt\n"
   ]
  },
  {
   "cell_type": "code",
   "execution_count": 30,
   "id": "dbd4ef2d-ad09-47a9-a084-a8ca8ca50681",
   "metadata": {
    "tags": []
   },
   "outputs": [],
   "source": [
    "def mix_feature(data):\n",
    "    # Selecting numerical features for interaction term creation\n",
    "    numerical_features = data.select_dtypes(include=['float64', 'int64']).drop(columns=['date', 'year', 'month', 'day', 'fire', 'lon', 'lat'])\n",
    "\n",
    "    # Creating interaction terms using PolynomialFeatures\n",
    "    polynomial_features = PolynomialFeatures(degree=2, interaction_only=True, include_bias=False)\n",
    "    interaction_features = polynomial_features.fit_transform(numerical_features)\n",
    "\n",
    "    # Creating a DataFrame to hold the new interaction features\n",
    "    interaction_features_df = pd.DataFrame(interaction_features)\n",
    "\n",
    "    # Rename interaction features to ensure uniqueness\n",
    "    new_feature_names = [f'feature_{i}' for i in range(interaction_features_df.shape[1])]\n",
    "    interaction_features_df.columns = new_feature_names\n",
    "\n",
    "    # Merging the interaction features with the original dataset\n",
    "    data_with_interactions = pd.concat([data, interaction_features_df], axis=1)\n",
    "    return data_with_interactions\n"
   ]
  },
  {
   "cell_type": "code",
   "execution_count": 31,
   "id": "accbdf32-d8f5-49f8-a2cb-5eaaaa68615c",
   "metadata": {
    "tags": []
   },
   "outputs": [],
   "source": [
    "# 定义一个回调函数，使用tqdm显示进度条\n",
    "class TQDMCallback(xgb.callback.TrainingCallback):\n",
    "    def __init__(self, num_boost_round):\n",
    "        self.num_boost_round = num_boost_round\n",
    "\n",
    "    def before_training(self, model):\n",
    "        self.pbar = tqdm(total=self.num_boost_round, desc=\"Training\")\n",
    "        return model\n",
    "\n",
    "    def after_iteration(self, model, epoch, evals_log):\n",
    "        self.pbar.update(1)\n",
    "        return False\n",
    "\n",
    "    def after_training(self, model):\n",
    "        self.pbar.close()\n",
    "        return model\n"
   ]
  },
  {
   "cell_type": "code",
   "execution_count": 32,
   "id": "dcbd6edf",
   "metadata": {
    "tags": []
   },
   "outputs": [],
   "source": [
    "def select_features(df,thus):\n",
    "    # df_corr = df.drop_duplicates(subset=['date','lon','lat'])\n",
    "    df_corr_1_res = pd.DataFrame(df.corr()['fire'])\n",
    "    df_corr_1_res.sort_values('fire',ascending=False)\n",
    "    # df_corr_1_res.to_csv('tp_corr.csv')\n",
    "    \n",
    "    df_corr_1_res = df_corr_1_res.query('abs(fire)>=@thus')\n",
    "    \n",
    "    feats = list(set(df_corr_1_res.index))\n",
    "    feats = list(filter(lambda x: x not in ['fire','date','year','month','day','lon', 'lat'] , feats))\n",
    "    print(f'corr>{thus}:{feats}')\n",
    "    \n",
    "    feats_name = ['fire','date','year','month','day','lon', 'lat']+feats\n",
    "    return feats_name\n",
    "    # Using mutual information to select features\n",
    "    mutual_info_scores = mutual_info_classif(df[feats], df['fire'])\n",
    "    mutual_info_selected_features = [feats[i] for i in range(len(feats)) if mutual_info_scores[i] > thus]\n",
    "    \n",
    "    # Combining both Pearson correlation and mutual information-based features\n",
    "    selected_features = list(set(feats + mutual_info_selected_features))\n",
    "    print(f'Selected features based on mutual information: {mutual_info_selected_features}')\n",
    "    \n",
    "    feats_name = ['fire','date','year','month','day','lon', 'lat'] + selected_features\n"
   ]
  },
  {
   "cell_type": "code",
   "execution_count": 33,
   "id": "e39db345-0612-415c-b839-24aed4263c87",
   "metadata": {
    "tags": []
   },
   "outputs": [],
   "source": [
    "def process_outlier(df,feats):\n",
    "    _ = df[feats[0:]]\n",
    "    # 1. 计算每个气象要素的平均值和标准差\n",
    "    mean_values = _.mean()\n",
    "    std_values = _.std()\n",
    "    # 2. 根据三倍标准差法，设定异常值的阈值\n",
    "    threshold = 3 * std_values\n",
    "    # 3. 遍历每个气象要素的数值，将超过设定阈值的值标记为异常值\n",
    "    is_outlier = (_ > mean_values + threshold) | (_ < mean_values - threshold)\n",
    "    # 4. 对于标记为异常值的数据，可以根据需要选择删除、替换或进行插补处理\n",
    "    # 假设你选择删除异常值\n",
    "    df = df[~is_outlier.any(axis=1)]\n",
    "#     df = df.query('sw_max1<20 and sw_max2<20')\n",
    "     \n",
    "    return df"
   ]
  },
  {
   "cell_type": "markdown",
   "id": "68c7e134-053e-43c4-ae97-f282bbea9ece",
   "metadata": {},
   "source": [
    "特征工程\n",
    "---"
   ]
  },
  {
   "cell_type": "code",
   "execution_count": 34,
   "id": "7f920ea2-a629-490d-9f75-7cf43617efb6",
   "metadata": {
    "tags": []
   },
   "outputs": [
    {
     "name": "stdout",
     "output_type": "stream",
     "text": [
      "corr>0.2:['feature_50', 'area_黑龙江省', 'feature_70', 'Alti', 'feature_30', 'TEM_Min', 'feature_92', 'feature_75', 'feature_1', 'feature_25', 'feature_72', 'feature_47', 'feature_0', 'feature_26', 'TEM_Max', 'feature_2', 'feature_49', 'feature_53']\n"
     ]
    }
   ],
   "source": [
    "data = pd.read_csv('fire_point_data.csv')\n",
    "data = data.drop(columns=['Unnamed: 0'])\n",
    "data['date'] = pd.to_datetime(data['date'])\n",
    "scaler = StandardScaler()\n",
    "data['date'] = scaler.fit_transform(data['date'].values.reshape(-1, 1))\n",
    "\n",
    "#data = data.drop(columns=['Unnamed: 0'], inplace=True)\n",
    "# 对分类特征进行独热编码\n",
    "data = pd.get_dummies(data, columns=['area'])\n",
    "data = mix_feature(data)\n",
    "feats_name = select_features(data, 0.2)\n",
    "data = process_outlier(data,feats_name)\n"
   ]
  },
  {
   "cell_type": "code",
   "execution_count": 35,
   "id": "4fd45b72-88c5-41c5-9bff-d207bb36a477",
   "metadata": {
    "tags": []
   },
   "outputs": [],
   "source": [
    "features_to_standardize = ['lon', 'lat', 'Alti', 'p', 'FFMC', 'DMC', 'DC', 'FWI', 'ISI', 'BUI', 'DSR', 'FFDI', 'ic']\n",
    "scaler = StandardScaler()\n",
    "data[features_to_standardize] = scaler.fit_transform(data[features_to_standardize])\n",
    "# Renaming duplicate feature names in X_test\n",
    "#data.columns = [str(col) + '_' + str(i) if data.columns.tolist().count(col) > 1 else col for i, col in enumerate(data.columns)]\n"
   ]
  },
  {
   "cell_type": "code",
   "execution_count": 36,
   "id": "1f9c5f2a-b4b1-4772-9a8a-eaefa59b000d",
   "metadata": {
    "tags": []
   },
   "outputs": [],
   "source": [
    "train_data = data[data['year']!=2017]\n",
    "pred_data = data[data['year']==2017]"
   ]
  },
  {
   "cell_type": "markdown",
   "id": "e2a074bf-26bf-4044-afd9-33f0ca7ea566",
   "metadata": {},
   "source": [
    "训练\n",
    "---"
   ]
  },
  {
   "cell_type": "code",
   "execution_count": 37,
   "id": "c132aaaf-b8ef-474f-b8b6-15dc0043a6ff",
   "metadata": {
    "tags": []
   },
   "outputs": [
    {
     "data": {
      "text/html": [
       "<div>\n",
       "<style scoped>\n",
       "    .dataframe tbody tr th:only-of-type {\n",
       "        vertical-align: middle;\n",
       "    }\n",
       "\n",
       "    .dataframe tbody tr th {\n",
       "        vertical-align: top;\n",
       "    }\n",
       "\n",
       "    .dataframe thead th {\n",
       "        text-align: right;\n",
       "    }\n",
       "</style>\n",
       "<table border=\"1\" class=\"dataframe\">\n",
       "  <thead>\n",
       "    <tr style=\"text-align: right;\">\n",
       "      <th></th>\n",
       "      <th>date</th>\n",
       "      <th>year</th>\n",
       "      <th>month</th>\n",
       "      <th>day</th>\n",
       "      <th>lon</th>\n",
       "      <th>lat</th>\n",
       "      <th>Alti</th>\n",
       "      <th>TEM_Max</th>\n",
       "      <th>TEM_Min</th>\n",
       "      <th>RHU_Min</th>\n",
       "      <th>...</th>\n",
       "      <th>feature_315</th>\n",
       "      <th>feature_316</th>\n",
       "      <th>feature_317</th>\n",
       "      <th>feature_318</th>\n",
       "      <th>feature_319</th>\n",
       "      <th>feature_320</th>\n",
       "      <th>feature_321</th>\n",
       "      <th>feature_322</th>\n",
       "      <th>feature_323</th>\n",
       "      <th>feature_324</th>\n",
       "    </tr>\n",
       "  </thead>\n",
       "  <tbody>\n",
       "    <tr>\n",
       "      <th>2114</th>\n",
       "      <td>-0.122765</td>\n",
       "      <td>2012</td>\n",
       "      <td>5</td>\n",
       "      <td>21</td>\n",
       "      <td>0.880418</td>\n",
       "      <td>0.343103</td>\n",
       "      <td>-0.560012</td>\n",
       "      <td>31.0</td>\n",
       "      <td>2.9</td>\n",
       "      <td>15.0</td>\n",
       "      <td>...</td>\n",
       "      <td>7.952950e+03</td>\n",
       "      <td>7.606959e+03</td>\n",
       "      <td>55.2480</td>\n",
       "      <td>4696.08</td>\n",
       "      <td>1.268487e+04</td>\n",
       "      <td>92.1280</td>\n",
       "      <td>7830.88</td>\n",
       "      <td>88.1200</td>\n",
       "      <td>7490.20</td>\n",
       "      <td>54.40</td>\n",
       "    </tr>\n",
       "    <tr>\n",
       "      <th>3197</th>\n",
       "      <td>1.522048</td>\n",
       "      <td>2016</td>\n",
       "      <td>4</td>\n",
       "      <td>7</td>\n",
       "      <td>-1.380300</td>\n",
       "      <td>-1.399061</td>\n",
       "      <td>-0.838528</td>\n",
       "      <td>21.8</td>\n",
       "      <td>7.6</td>\n",
       "      <td>7.0</td>\n",
       "      <td>...</td>\n",
       "      <td>7.287973e+03</td>\n",
       "      <td>4.002195e+03</td>\n",
       "      <td>23.6487</td>\n",
       "      <td>3941.45</td>\n",
       "      <td>1.356534e+04</td>\n",
       "      <td>80.1567</td>\n",
       "      <td>13359.45</td>\n",
       "      <td>44.0181</td>\n",
       "      <td>7336.35</td>\n",
       "      <td>43.35</td>\n",
       "    </tr>\n",
       "    <tr>\n",
       "      <th>261</th>\n",
       "      <td>-0.927180</td>\n",
       "      <td>2010</td>\n",
       "      <td>6</td>\n",
       "      <td>28</td>\n",
       "      <td>-0.328683</td>\n",
       "      <td>0.760607</td>\n",
       "      <td>0.479339</td>\n",
       "      <td>38.3</td>\n",
       "      <td>14.2</td>\n",
       "      <td>14.0</td>\n",
       "      <td>...</td>\n",
       "      <td>4.501961e+03</td>\n",
       "      <td>1.275929e+03</td>\n",
       "      <td>20.8400</td>\n",
       "      <td>833.60</td>\n",
       "      <td>8.464724e+03</td>\n",
       "      <td>138.2560</td>\n",
       "      <td>5530.24</td>\n",
       "      <td>39.1840</td>\n",
       "      <td>1567.36</td>\n",
       "      <td>25.60</td>\n",
       "    </tr>\n",
       "    <tr>\n",
       "      <th>1458</th>\n",
       "      <td>-0.601003</td>\n",
       "      <td>2011</td>\n",
       "      <td>4</td>\n",
       "      <td>5</td>\n",
       "      <td>-0.826459</td>\n",
       "      <td>-1.638302</td>\n",
       "      <td>-1.196148</td>\n",
       "      <td>18.7</td>\n",
       "      <td>1.9</td>\n",
       "      <td>11.0</td>\n",
       "      <td>...</td>\n",
       "      <td>9.998000e+07</td>\n",
       "      <td>9.998000e+07</td>\n",
       "      <td>7699.2300</td>\n",
       "      <td>99980001.00</td>\n",
       "      <td>9.998000e+07</td>\n",
       "      <td>7699.2300</td>\n",
       "      <td>99980001.00</td>\n",
       "      <td>7699.2300</td>\n",
       "      <td>99980001.00</td>\n",
       "      <td>7699.23</td>\n",
       "    </tr>\n",
       "    <tr>\n",
       "      <th>3191</th>\n",
       "      <td>1.522048</td>\n",
       "      <td>2016</td>\n",
       "      <td>4</td>\n",
       "      <td>7</td>\n",
       "      <td>-1.319156</td>\n",
       "      <td>-1.375288</td>\n",
       "      <td>-0.838528</td>\n",
       "      <td>21.8</td>\n",
       "      <td>7.6</td>\n",
       "      <td>7.0</td>\n",
       "      <td>...</td>\n",
       "      <td>7.287973e+03</td>\n",
       "      <td>4.002195e+03</td>\n",
       "      <td>23.6487</td>\n",
       "      <td>3941.45</td>\n",
       "      <td>1.356534e+04</td>\n",
       "      <td>80.1567</td>\n",
       "      <td>13359.45</td>\n",
       "      <td>44.0181</td>\n",
       "      <td>7336.35</td>\n",
       "      <td>43.35</td>\n",
       "    </tr>\n",
       "  </tbody>\n",
       "</table>\n",
       "<p>5 rows × 359 columns</p>\n",
       "</div>"
      ],
      "text/plain": [
       "          date  year  month  day       lon       lat      Alti  TEM_Max  \\\n",
       "2114 -0.122765  2012      5   21  0.880418  0.343103 -0.560012     31.0   \n",
       "3197  1.522048  2016      4    7 -1.380300 -1.399061 -0.838528     21.8   \n",
       "261  -0.927180  2010      6   28 -0.328683  0.760607  0.479339     38.3   \n",
       "1458 -0.601003  2011      4    5 -0.826459 -1.638302 -1.196148     18.7   \n",
       "3191  1.522048  2016      4    7 -1.319156 -1.375288 -0.838528     21.8   \n",
       "\n",
       "      TEM_Min  RHU_Min  ...   feature_315   feature_316  feature_317  \\\n",
       "2114      2.9     15.0  ...  7.952950e+03  7.606959e+03      55.2480   \n",
       "3197      7.6      7.0  ...  7.287973e+03  4.002195e+03      23.6487   \n",
       "261      14.2     14.0  ...  4.501961e+03  1.275929e+03      20.8400   \n",
       "1458      1.9     11.0  ...  9.998000e+07  9.998000e+07    7699.2300   \n",
       "3191      7.6      7.0  ...  7.287973e+03  4.002195e+03      23.6487   \n",
       "\n",
       "      feature_318   feature_319  feature_320  feature_321  feature_322  \\\n",
       "2114      4696.08  1.268487e+04      92.1280      7830.88      88.1200   \n",
       "3197      3941.45  1.356534e+04      80.1567     13359.45      44.0181   \n",
       "261        833.60  8.464724e+03     138.2560      5530.24      39.1840   \n",
       "1458  99980001.00  9.998000e+07    7699.2300  99980001.00    7699.2300   \n",
       "3191      3941.45  1.356534e+04      80.1567     13359.45      44.0181   \n",
       "\n",
       "      feature_323  feature_324  \n",
       "2114      7490.20        54.40  \n",
       "3197      7336.35        43.35  \n",
       "261       1567.36        25.60  \n",
       "1458  99980001.00      7699.23  \n",
       "3191      7336.35        43.35  \n",
       "\n",
       "[5 rows x 359 columns]"
      ]
     },
     "execution_count": 37,
     "metadata": {},
     "output_type": "execute_result"
    }
   ],
   "source": [
    "train_data = data.dropna()\n",
    "\n",
    "# 定义特征和目标变量\n",
    "X = train_data.drop('fire', axis=1)\n",
    "y = train_data['fire']\n",
    "\n",
    "# 分割数据集为训练集和测试集\n",
    "X_train, X_test, y_train, y_test = train_test_split(X, y, test_size=0.2, random_state=42)\n",
    "\n",
    "# 显示训练集的前几行\n",
    "X_train.head()"
   ]
  },
  {
   "cell_type": "code",
   "execution_count": 38,
   "id": "70131eee",
   "metadata": {
    "tags": []
   },
   "outputs": [
    {
     "name": "stderr",
     "output_type": "stream",
     "text": [
      "Training:   0%|                                         | 0/100 [00:00<?, ?it/s]"
     ]
    },
    {
     "name": "stdout",
     "output_type": "stream",
     "text": [
      "[0]\ttrain-error:0.23321\teval-error:0.23746\n",
      "[1]\ttrain-error:0.23321\teval-error:0.23746\n",
      "[2]\ttrain-error:0.23321\teval-error:0.23746\n",
      "[3]\ttrain-error:0.23321\teval-error:0.23746\n",
      "[4]\ttrain-error:0.23321\teval-error:0.23746\n",
      "[5]\ttrain-error:0.20664\teval-error:0.22124\n",
      "[6]\ttrain-error:0.20443\teval-error:0.21976\n",
      "[7]\ttrain-error:0.15351\teval-error:0.18289\n"
     ]
    },
    {
     "name": "stderr",
     "output_type": "stream",
     "text": [
      "Training:   8%|██▋                              | 8/100 [00:00<00:01, 71.52it/s]"
     ]
    },
    {
     "name": "stdout",
     "output_type": "stream",
     "text": [
      "[8]\ttrain-error:0.15018\teval-error:0.18584\n",
      "[9]\ttrain-error:0.14170\teval-error:0.17847\n",
      "[10]\ttrain-error:0.12620\teval-error:0.15782\n",
      "[11]\ttrain-error:0.12030\teval-error:0.15044\n",
      "[12]\ttrain-error:0.11033\teval-error:0.14159\n",
      "[13]\ttrain-error:0.10295\teval-error:0.13569\n",
      "[14]\ttrain-error:0.10111\teval-error:0.13569\n",
      "[15]\ttrain-error:0.09742\teval-error:0.13127\n",
      "[16]\ttrain-error:0.09520\teval-error:0.13422\n"
     ]
    },
    {
     "name": "stderr",
     "output_type": "stream",
     "text": [
      "Training:  17%|█████▍                          | 17/100 [00:00<00:01, 76.34it/s]"
     ]
    },
    {
     "name": "stdout",
     "output_type": "stream",
     "text": [
      "[17]\ttrain-error:0.08708\teval-error:0.13274\n",
      "[18]\ttrain-error:0.08708\teval-error:0.13422\n",
      "[19]\ttrain-error:0.08782\teval-error:0.13274\n",
      "[20]\ttrain-error:0.08561\teval-error:0.12979\n",
      "[21]\ttrain-error:0.08635\teval-error:0.12684\n",
      "[22]\ttrain-error:0.08266\teval-error:0.12242\n",
      "[23]\ttrain-error:0.07970\teval-error:0.11947\n",
      "[24]\ttrain-error:0.07712\teval-error:0.11652\n",
      "[25]\ttrain-error:0.07565\teval-error:0.11062\n"
     ]
    },
    {
     "name": "stderr",
     "output_type": "stream",
     "text": [
      "Training:  26%|████████▎                       | 26/100 [00:00<00:00, 80.63it/s]"
     ]
    },
    {
     "name": "stdout",
     "output_type": "stream",
     "text": [
      "[26]\ttrain-error:0.07417\teval-error:0.11062\n",
      "[27]\ttrain-error:0.07232\teval-error:0.11209\n",
      "[28]\ttrain-error:0.06863\teval-error:0.10619\n",
      "[29]\ttrain-error:0.06494\teval-error:0.10472\n",
      "[30]\ttrain-error:0.06531\teval-error:0.10324\n",
      "[31]\ttrain-error:0.06531\teval-error:0.10029\n",
      "[32]\ttrain-error:0.06421\teval-error:0.09735\n",
      "[33]\ttrain-error:0.06015\teval-error:0.09587\n",
      "[34]\ttrain-error:0.05756\teval-error:0.09735\n"
     ]
    },
    {
     "name": "stderr",
     "output_type": "stream",
     "text": [
      "Training:  35%|███████████▏                    | 35/100 [00:00<00:00, 82.51it/s]"
     ]
    },
    {
     "name": "stdout",
     "output_type": "stream",
     "text": [
      "[35]\ttrain-error:0.05683\teval-error:0.09587\n",
      "[36]\ttrain-error:0.04834\teval-error:0.09145\n",
      "[37]\ttrain-error:0.04391\teval-error:0.08850\n",
      "[38]\ttrain-error:0.04022\teval-error:0.08112\n",
      "[39]\ttrain-error:0.03875\teval-error:0.08112\n",
      "[40]\ttrain-error:0.03653\teval-error:0.07965\n",
      "[41]\ttrain-error:0.03616\teval-error:0.07670\n",
      "[42]\ttrain-error:0.03469\teval-error:0.07670\n",
      "[43]\ttrain-error:0.03210\teval-error:0.07227\n"
     ]
    },
    {
     "name": "stderr",
     "output_type": "stream",
     "text": [
      "Training:  44%|██████████████                  | 44/100 [00:00<00:00, 82.93it/s]"
     ]
    },
    {
     "name": "stdout",
     "output_type": "stream",
     "text": [
      "[44]\ttrain-error:0.02768\teval-error:0.07080\n",
      "[45]\ttrain-error:0.02325\teval-error:0.07080\n",
      "[46]\ttrain-error:0.02103\teval-error:0.06932\n",
      "[47]\ttrain-error:0.01808\teval-error:0.07080\n",
      "[48]\ttrain-error:0.01587\teval-error:0.07080\n",
      "[49]\ttrain-error:0.01365\teval-error:0.07670\n",
      "[50]\ttrain-error:0.01107\teval-error:0.07080\n",
      "[51]\ttrain-error:0.00959\teval-error:0.07227\n",
      "[52]\ttrain-error:0.00959\teval-error:0.06932\n"
     ]
    },
    {
     "name": "stderr",
     "output_type": "stream",
     "text": [
      "Training:  53%|████████████████▉               | 53/100 [00:00<00:00, 83.27it/s]"
     ]
    },
    {
     "name": "stdout",
     "output_type": "stream",
     "text": [
      "[53]\ttrain-error:0.00849\teval-error:0.07227\n",
      "[54]\ttrain-error:0.00738\teval-error:0.06932\n",
      "[55]\ttrain-error:0.00664\teval-error:0.06785\n",
      "[56]\ttrain-error:0.00664\teval-error:0.06637\n",
      "[57]\ttrain-error:0.00590\teval-error:0.06637\n",
      "[58]\ttrain-error:0.00406\teval-error:0.06490\n",
      "[59]\ttrain-error:0.00443\teval-error:0.06342\n",
      "[60]\ttrain-error:0.00332\teval-error:0.06637\n",
      "[61]\ttrain-error:0.00295\teval-error:0.06195\n"
     ]
    },
    {
     "name": "stderr",
     "output_type": "stream",
     "text": [
      "Training:  62%|███████████████████▊            | 62/100 [00:00<00:00, 83.54it/s]"
     ]
    },
    {
     "name": "stdout",
     "output_type": "stream",
     "text": [
      "[62]\ttrain-error:0.00295\teval-error:0.06195\n",
      "[63]\ttrain-error:0.00295\teval-error:0.05752\n",
      "[64]\ttrain-error:0.00185\teval-error:0.05900\n",
      "[65]\ttrain-error:0.00148\teval-error:0.05752\n",
      "[66]\ttrain-error:0.00148\teval-error:0.05752\n",
      "[67]\ttrain-error:0.00148\teval-error:0.05752\n",
      "[68]\ttrain-error:0.00148\teval-error:0.05605\n",
      "[69]\ttrain-error:0.00148\teval-error:0.06195\n",
      "[70]\ttrain-error:0.00148\teval-error:0.05900\n"
     ]
    },
    {
     "name": "stderr",
     "output_type": "stream",
     "text": [
      "Training:  71%|██████████████████████▋         | 71/100 [00:00<00:00, 84.31it/s]"
     ]
    },
    {
     "name": "stdout",
     "output_type": "stream",
     "text": [
      "[71]\ttrain-error:0.00185\teval-error:0.06195\n",
      "[72]\ttrain-error:0.00148\teval-error:0.05900\n",
      "[73]\ttrain-error:0.00074\teval-error:0.05900\n",
      "[74]\ttrain-error:0.00074\teval-error:0.06195\n",
      "[75]\ttrain-error:0.00074\teval-error:0.06195\n",
      "[76]\ttrain-error:0.00074\teval-error:0.05900\n",
      "[77]\ttrain-error:0.00074\teval-error:0.06195\n"
     ]
    },
    {
     "name": "stderr",
     "output_type": "stream",
     "text": [
      "Training:  78%|████████████████████████▉       | 78/100 [00:00<00:00, 80.42it/s]"
     ]
    },
    {
     "name": "stdout",
     "output_type": "stream",
     "text": [
      "Fitting 3 folds for each of 81 candidates, totalling 243 fits\n"
     ]
    },
    {
     "name": "stderr",
     "output_type": "stream",
     "text": [
      "\n"
     ]
    },
    {
     "name": "stdout",
     "output_type": "stream",
     "text": [
      "Best Parameters: {'learning_rate': 0.1, 'max_depth': 4, 'min_child_weight': 3, 'n_estimators': 300}\n"
     ]
    }
   ],
   "source": [
    "\n",
    "# 创建DMatrix对象\n",
    "dtrain = xgb.DMatrix(X_train, label=y_train)\n",
    "dtest = xgb.DMatrix(X_test, label=y_test)\n",
    "\n",
    "# 设置参数\n",
    "params = {\n",
    "    'objective': 'binary:hinge',\n",
    "    'eval_metric': 'error',\n",
    "    'eta': 0.1,\n",
    "    'max_depth': 5,\n",
    "}\n",
    "es = xgb.callback.EarlyStopping(\n",
    "    rounds=10,\n",
    "    save_best=True,\n",
    "    metric_name=\"error\",\n",
    ")\n",
    "\n",
    "# 训练模型并显示进度条\n",
    "evals = [(dtrain, 'train'), (dtest, 'eval')]\n",
    "# callbacks = [tqdm_callback(), es] # 将进度条回调添加到callbacks列表\n",
    "num_boost_round = 100\n",
    "model = xgb.train(params, dtrain, num_boost_round=num_boost_round, evals=evals, callbacks=[es, TQDMCallback(num_boost_round)])\n",
    "# 预测测试集\n",
    "y_pred = model.predict(dtest)\n",
    "# y_pred_binary = [1 if p > 0.5 else 0 for p in y_pred]\n",
    "\n",
    "# 计算准确率\n",
    "# accuracy = accuracy_score(y_test, y_pred_binary)\n",
    "# accuracy\n",
    "# Define the parameter grid\n",
    "param_grid = {\n",
    "    'max_depth': [3, 4, 5],\n",
    "    'learning_rate': [0.01, 0.05, 0.1],\n",
    "    'n_estimators': [100, 200, 300],\n",
    "    'min_child_weight': [1, 2, 3]\n",
    "}\n",
    "\n",
    "# Create a GridSearchCV object\n",
    "grid_search = GridSearchCV(estimator=xgb.XGBClassifier(),\n",
    "                           param_grid=param_grid,\n",
    "                           scoring='accuracy',\n",
    "                           cv=3,\n",
    "                           verbose=1,\n",
    "                           n_jobs=-1)\n",
    "\n",
    "# Fit the model to the data\n",
    "grid_search.fit(X_train, y_train)\n",
    "\n",
    "# Get the best parameters and estimator\n",
    "best_params = grid_search.best_params_\n",
    "best_estimator = grid_search.best_estimator_\n",
    "\n",
    "# Print the best parameters\n",
    "print(f\"Best Parameters: {best_params}\")"
   ]
  },
  {
   "cell_type": "code",
   "execution_count": 39,
   "id": "69177d50",
   "metadata": {
    "tags": []
   },
   "outputs": [
    {
     "name": "stdout",
     "output_type": "stream",
     "text": [
      "Confusion Matrix:\n",
      "[[134  27]\n",
      " [ 11 506]]\n",
      "Precision: 0.949343339587242\n",
      "Recall: 0.9787234042553191\n",
      "F1-Score: 0.9638095238095238\n"
     ]
    },
    {
     "data": {
      "image/png": "[encoded data removed]",
      "text/plain": [
       "<Figure size 640x480 with 1 Axes>"
      ]
     },
     "metadata": {},
     "output_type": "display_data"
    }
   ],
   "source": [
    "\n",
    "# Calculate confusion matrix\n",
    "conf_matrix = confusion_matrix(y_test, y_pred)\n",
    "print(\"Confusion Matrix:\")\n",
    "print(conf_matrix)\n",
    "\n",
    "# Calculate precision\n",
    "precision = precision_score(y_test, y_pred)\n",
    "print(f\"Precision: {precision}\")\n",
    "\n",
    "# Calculate recall\n",
    "recall = recall_score(y_test, y_pred)\n",
    "print(f\"Recall: {recall}\")\n",
    "\n",
    "# Calculate F1-score\n",
    "f1 = f1_score(y_test, y_pred)\n",
    "print(f\"F1-Score: {f1}\")\n",
    "\n",
    "# Calculate ROC curve and AUC score\n",
    "fpr, tpr, _ = roc_curve(y_test, y_pred)\n",
    "roc_auc = auc(fpr, tpr)\n",
    "\n",
    "# Plot ROC curve\n",
    "plt.figure()\n",
    "plt.rcParams['font.sans-serif'] = ['Arial']  # 指定默认字体\n",
    "plt.rcParams['axes.unicode_minus'] = False  # 解决保存图像时负号'-'显示为方块的问题\n",
    "plt.plot(fpr, tpr, color='darkorange', lw=2, label=f'ROC curve (area = {roc_auc})')\n",
    "plt.plot([0, 1], [0, 1], color='navy', lw=2, linestyle='--')\n",
    "plt.xlim([0.0, 1.0])\n",
    "plt.ylim([0.0, 1.05])\n",
    "plt.xlabel('False Positive Rate')\n",
    "plt.ylabel('True Positive Rate')\n",
    "plt.title('Receiver Operating Characteristic')\n",
    "plt.legend(loc=\"lower right\")\n",
    "plt.show()\n"
   ]
  },
  {
   "cell_type": "code",
   "execution_count": 40,
   "id": "4581f660-ed24-4d6e-908d-83b1007f7c16",
   "metadata": {
    "tags": []
   },
   "outputs": [],
   "source": [
    "model_path = 'save/fire_risk_model.xgb'\n",
    "\n",
    "# 保存模型\n",
    "model.save_model(model_path)\n"
   ]
  },
  {
   "cell_type": "markdown",
   "id": "9e45fd25-b08a-4767-b32e-5e02682a4a55",
   "metadata": {},
   "source": [
    "推理过程\n",
    "---"
   ]
  },
  {
   "cell_type": "code",
   "execution_count": 41,
   "id": "64a6c297-fa1d-4c58-8c98-37c7adf5bf32",
   "metadata": {
    "tags": []
   },
   "outputs": [],
   "source": [
    "# 从预测数据中分离特征\n",
    "X_pred = pred_data.drop('fire', axis=1)\n",
    "\n",
    "# 创建DMatrix对象\n",
    "dpred = xgb.DMatrix(X_pred)\n",
    "\n",
    "# 使用保存的模型进行预测\n",
    "predictions = model.predict(dpred)\n",
    "\n",
    "# 将预测结果转换为二进制分类输出\n",
    "predictions_binary = [1 if p > 0.5 else 0 for p in predictions]\n",
    "\n",
    "pred_data['fire_prediction'] = predictions_binary\n",
    "\n",
    "pred_data.to_csv('result.csv')"
   ]
  },
  {
   "cell_type": "code",
   "execution_count": 42,
   "id": "47a31341-a999-44be-b455-00bfea7b530d",
   "metadata": {
    "tags": []
   },
   "outputs": [
    {
     "data": {
      "text/plain": [
       "0.9772727272727273"
      ]
     },
     "execution_count": 42,
     "metadata": {},
     "output_type": "execute_result"
    }
   ],
   "source": [
    "obs = pred_data['fire']\n",
    "fo = pred_data['fire_prediction']\n",
    "obs_array = obs.to_numpy()\n",
    "fo_array = fo.to_numpy()\n",
    "accuracy = pc(obs_array, fo_array)\n",
    "accuracy\n"
   ]
  },
  {
   "cell_type": "code",
   "execution_count": null,
   "id": "5811bcce-33fb-4a40-9f45-b72daf382c5c",
   "metadata": {},
   "outputs": [],
   "source": []
  }
 ],
 "metadata": {
  "kernelspec": {
   "display_name": "yyc",
   "language": "python",
   "name": "yyc"
  },
  "language_info": {
   "codemirror_mode": {
    "name": "ipython",
    "version": 3
   },
   "file_extension": ".py",
   "mimetype": "text/x-python",
   "name": "python",
   "nbconvert_exporter": "python",
   "pygments_lexer": "ipython3",
   "version": "3.10.10"
  },
  "widgets": {
   "application/vnd.jupyter.widget-state+json": {
    "state": {},
    "version_major": 2,
    "version_minor": 0
   }
  }
 },
 "nbformat": 4,
 "nbformat_minor": 5
}
