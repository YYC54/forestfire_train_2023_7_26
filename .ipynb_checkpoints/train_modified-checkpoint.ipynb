{
 "cells": [
  {
   "cell_type": "code",
   "execution_count": 88,
   "id": "c4fcdb9b-efbb-4b0b-8406-3b4a02975b4a",
   "metadata": {
    "tags": []
   },
   "outputs": [],
   "source": [
    "import pandas as pd\n",
    "from sklearn.model_selection import train_test_split\n",
    "from sklearn.ensemble import RandomForestClassifier\n",
    "from sklearn.metrics import accuracy_score, classification_report\n",
    "from sklearn.preprocessing import LabelEncoder\n",
    "import xgboost as xgb\n",
    "from sklearn.metrics import accuracy_score\n",
    "from sklearn.preprocessing import StandardScaler\n",
    "from tqdm import tqdm\n",
    "import meteva as mem\n",
    "from meteva.method import pc\n",
    "from sklearn.feature_selection import mutual_info_classif"
   ]
  },
  {
   "cell_type": "code",
   "execution_count": 89,
   "id": "accbdf32-d8f5-49f8-a2cb-5eaaaa68615c",
   "metadata": {
    "tags": []
   },
   "outputs": [],
   "source": [
    "# 定义一个回调函数，使用tqdm显示进度条\n",
    "class TQDMCallback(xgb.callback.TrainingCallback):\n",
    "    def __init__(self, num_boost_round):\n",
    "        self.num_boost_round = num_boost_round\n",
    "\n",
    "    def before_training(self, model):\n",
    "        self.pbar = tqdm(total=self.num_boost_round, desc=\"Training\")\n",
    "        return model\n",
    "\n",
    "    def after_iteration(self, model, epoch, evals_log):\n",
    "        self.pbar.update(1)\n",
    "        return False\n",
    "\n",
    "    def after_training(self, model):\n",
    "        self.pbar.close()\n",
    "        return model\n"
   ]
  },
  {
   "cell_type": "code",
   "execution_count": 90,
   "id": "701f721e-cdb9-480d-abbb-e6f8ebfe4ca6",
   "metadata": {
    "tags": []
   },
   "outputs": [],
   "source": [
    "def select_features(df,thus):\n",
    "    # df_corr = df.drop_duplicates(subset=['date','lon','lat'])\n",
    "    df_corr_1_res = pd.DataFrame(df.corr()['fire'])\n",
    "    df_corr_1_res.sort_values('fire',ascending=False)\n",
    "    # df_corr_1_res.to_csv('tp_corr.csv')\n",
    "    \n",
    "    df_corr_1_res = df_corr_1_res.query('abs(fire)>=@thus')\n",
    "    \n",
    "    feats = list(set(df_corr_1_res.index))\n",
    "    feats = list(filter(lambda x: x not in ['fire','date','year','month','day','lon', 'lat'] , feats))\n",
    "    print(f'corr>{thus}:{feats}')\n",
    "    \n",
    "    feats_name = ['fire','date','year','month','day','lon', 'lat']+feats\n",
    "    return feats_name"
   ]
  },
  {
   "cell_type": "code",
   "execution_count": 91,
   "id": "e39db345-0612-415c-b839-24aed4263c87",
   "metadata": {
    "tags": []
   },
   "outputs": [],
   "source": [
    "def process_outlier(df,feats):\n",
    "    _ = df[feats[0:]]\n",
    "    # 1. 计算每个气象要素的平均值和标准差\n",
    "    mean_values = _.mean()\n",
    "    std_values = _.std()\n",
    "    # 2. 根据三倍标准差法，设定异常值的阈值\n",
    "    threshold = 3 * std_values\n",
    "    # 3. 遍历每个气象要素的数值，将超过设定阈值的值标记为异常值\n",
    "    is_outlier = (_ > mean_values + threshold) | (_ < mean_values - threshold)\n",
    "    # 4. 对于标记为异常值的数据，可以根据需要选择删除、替换或进行插补处理\n",
    "    # 假设你选择删除异常值\n",
    "    df = df[~is_outlier.any(axis=1)]\n",
    "#     df = df.query('sw_max1<20 and sw_max2<20')\n",
    "     \n",
    "    return df"
   ]
  },
  {
   "cell_type": "markdown",
   "id": "68c7e134-053e-43c4-ae97-f282bbea9ece",
   "metadata": {},
   "source": [
    "特征工程\n",
    "---"
   ]
  },
  {
   "cell_type": "code",
   "execution_count": 92,
   "id": "7f920ea2-a629-490d-9f75-7cf43617efb6",
   "metadata": {
    "tags": []
   },
   "outputs": [
    {
     "name": "stdout",
     "output_type": "stream",
     "text": [
      "corr>0.01:['FFDI', 'FFMC', 'DC', 'kb', 'area_辽宁省', 'yth1', 'FWI', 'Unnamed: 0', 'area_黑龙江省', 'yth10', 'DMC', 'area_吉林省', 'erc', 'PRE_Time_2020', 'yth100', 'yth1000', 'RHU_Min', 'DSR', 'p', 'BUI', 'bi', 'ISI', 'Alti', 'Snow_Depth', 'TEM_Max', 'ic', 'sc', 'WIN_S_Max', 'TEM_Min']\n"
     ]
    }
   ],
   "source": [
    "data = pd.read_csv('fire_point_data.csv')\n",
    "\n",
    "data['date'] = pd.to_datetime(data['date'])\n",
    "scaler = StandardScaler()\n",
    "data['date'] = scaler.fit_transform(data['date'].values.reshape(-1, 1))\n",
    "\n",
    "# data.drop(columns=['Unnamed: 0'], inplace=True)\n",
    "# 对分类特征进行独热编码\n",
    "data = pd.get_dummies(data, columns=['area'])\n",
    "\n",
    "feats_name = select_features(data, 0.01)\n",
    "data = process_outlier(data,feats_name)"
   ]
  },
  {
   "cell_type": "code",
   "execution_count": 93,
   "id": "1f9c5f2a-b4b1-4772-9a8a-eaefa59b000d",
   "metadata": {
    "tags": []
   },
   "outputs": [],
   "source": [
    "train_data = data[data['year']!=2017]\n",
    "pred_data = data[data['year']==2017]"
   ]
  },
  {
   "cell_type": "markdown",
   "id": "e2a074bf-26bf-4044-afd9-33f0ca7ea566",
   "metadata": {},
   "source": [
    "训练\n",
    "---"
   ]
  },
  {
   "cell_type": "code",
   "execution_count": 94,
   "id": "c132aaaf-b8ef-474f-b8b6-15dc0043a6ff",
   "metadata": {
    "tags": []
   },
   "outputs": [
    {
     "data": {
      "text/html": [
       "<div>\n",
       "<style scoped>\n",
       "    .dataframe tbody tr th:only-of-type {\n",
       "        vertical-align: middle;\n",
       "    }\n",
       "\n",
       "    .dataframe tbody tr th {\n",
       "        vertical-align: top;\n",
       "    }\n",
       "\n",
       "    .dataframe thead th {\n",
       "        text-align: right;\n",
       "    }\n",
       "</style>\n",
       "<table border=\"1\" class=\"dataframe\">\n",
       "  <thead>\n",
       "    <tr style=\"text-align: right;\">\n",
       "      <th></th>\n",
       "      <th>Unnamed: 0</th>\n",
       "      <th>date</th>\n",
       "      <th>year</th>\n",
       "      <th>month</th>\n",
       "      <th>day</th>\n",
       "      <th>lon</th>\n",
       "      <th>lat</th>\n",
       "      <th>Alti</th>\n",
       "      <th>TEM_Max</th>\n",
       "      <th>TEM_Min</th>\n",
       "      <th>...</th>\n",
       "      <th>DC</th>\n",
       "      <th>FWI</th>\n",
       "      <th>ISI</th>\n",
       "      <th>BUI</th>\n",
       "      <th>DSR</th>\n",
       "      <th>FFDI</th>\n",
       "      <th>ic</th>\n",
       "      <th>area_吉林省</th>\n",
       "      <th>area_辽宁省</th>\n",
       "      <th>area_黑龙江省</th>\n",
       "    </tr>\n",
       "  </thead>\n",
       "  <tbody>\n",
       "    <tr>\n",
       "      <th>2033</th>\n",
       "      <td>2033</td>\n",
       "      <td>-0.162232</td>\n",
       "      <td>2012</td>\n",
       "      <td>4</td>\n",
       "      <td>17</td>\n",
       "      <td>129.7675</td>\n",
       "      <td>44.4717</td>\n",
       "      <td>244.833908</td>\n",
       "      <td>15.796335</td>\n",
       "      <td>-3.738874</td>\n",
       "      <td>...</td>\n",
       "      <td>546.839737</td>\n",
       "      <td>43.673311</td>\n",
       "      <td>17.878993</td>\n",
       "      <td>89.722245</td>\n",
       "      <td>21.772918</td>\n",
       "      <td>0.570563</td>\n",
       "      <td>23.388744</td>\n",
       "      <td>0</td>\n",
       "      <td>1</td>\n",
       "      <td>0</td>\n",
       "    </tr>\n",
       "    <tr>\n",
       "      <th>170</th>\n",
       "      <td>170</td>\n",
       "      <td>-0.928341</td>\n",
       "      <td>2010</td>\n",
       "      <td>6</td>\n",
       "      <td>27</td>\n",
       "      <td>123.0313</td>\n",
       "      <td>51.3797</td>\n",
       "      <td>514.500000</td>\n",
       "      <td>38.300000</td>\n",
       "      <td>16.800000</td>\n",
       "      <td>...</td>\n",
       "      <td>397.150000</td>\n",
       "      <td>73.710000</td>\n",
       "      <td>34.870000</td>\n",
       "      <td>116.450000</td>\n",
       "      <td>54.960000</td>\n",
       "      <td>0.730000</td>\n",
       "      <td>49.000000</td>\n",
       "      <td>0</td>\n",
       "      <td>0</td>\n",
       "      <td>1</td>\n",
       "    </tr>\n",
       "    <tr>\n",
       "      <th>1510</th>\n",
       "      <td>1510</td>\n",
       "      <td>-0.590556</td>\n",
       "      <td>2011</td>\n",
       "      <td>4</td>\n",
       "      <td>14</td>\n",
       "      <td>119.5651</td>\n",
       "      <td>41.5829</td>\n",
       "      <td>422.000000</td>\n",
       "      <td>26.600000</td>\n",
       "      <td>10.700000</td>\n",
       "      <td>...</td>\n",
       "      <td>260.790000</td>\n",
       "      <td>77.980000</td>\n",
       "      <td>32.120000</td>\n",
       "      <td>169.710000</td>\n",
       "      <td>60.720000</td>\n",
       "      <td>0.650000</td>\n",
       "      <td>64.000000</td>\n",
       "      <td>0</td>\n",
       "      <td>0</td>\n",
       "      <td>1</td>\n",
       "    </tr>\n",
       "    <tr>\n",
       "      <th>53</th>\n",
       "      <td>53</td>\n",
       "      <td>-0.930662</td>\n",
       "      <td>2010</td>\n",
       "      <td>6</td>\n",
       "      <td>25</td>\n",
       "      <td>123.5010</td>\n",
       "      <td>51.2850</td>\n",
       "      <td>423.700000</td>\n",
       "      <td>40.500000</td>\n",
       "      <td>14.600000</td>\n",
       "      <td>...</td>\n",
       "      <td>478.790000</td>\n",
       "      <td>74.770000</td>\n",
       "      <td>31.240000</td>\n",
       "      <td>150.700000</td>\n",
       "      <td>56.370000</td>\n",
       "      <td>0.690000</td>\n",
       "      <td>39.000000</td>\n",
       "      <td>0</td>\n",
       "      <td>0</td>\n",
       "      <td>1</td>\n",
       "    </tr>\n",
       "    <tr>\n",
       "      <th>901</th>\n",
       "      <td>901</td>\n",
       "      <td>-0.923698</td>\n",
       "      <td>2010</td>\n",
       "      <td>7</td>\n",
       "      <td>1</td>\n",
       "      <td>123.0211</td>\n",
       "      <td>51.3805</td>\n",
       "      <td>514.500000</td>\n",
       "      <td>30.500000</td>\n",
       "      <td>15.800000</td>\n",
       "      <td>...</td>\n",
       "      <td>435.350000</td>\n",
       "      <td>29.920000</td>\n",
       "      <td>8.180000</td>\n",
       "      <td>121.240000</td>\n",
       "      <td>11.150000</td>\n",
       "      <td>0.000000</td>\n",
       "      <td>27.000000</td>\n",
       "      <td>0</td>\n",
       "      <td>0</td>\n",
       "      <td>1</td>\n",
       "    </tr>\n",
       "  </tbody>\n",
       "</table>\n",
       "<p>5 rows × 35 columns</p>\n",
       "</div>"
      ],
      "text/plain": [
       "      Unnamed: 0      date  year  month  day       lon      lat        Alti  \\\n",
       "2033        2033 -0.162232  2012      4   17  129.7675  44.4717  244.833908   \n",
       "170          170 -0.928341  2010      6   27  123.0313  51.3797  514.500000   \n",
       "1510        1510 -0.590556  2011      4   14  119.5651  41.5829  422.000000   \n",
       "53            53 -0.930662  2010      6   25  123.5010  51.2850  423.700000   \n",
       "901          901 -0.923698  2010      7    1  123.0211  51.3805  514.500000   \n",
       "\n",
       "        TEM_Max    TEM_Min  ...          DC        FWI        ISI         BUI  \\\n",
       "2033  15.796335  -3.738874  ...  546.839737  43.673311  17.878993   89.722245   \n",
       "170   38.300000  16.800000  ...  397.150000  73.710000  34.870000  116.450000   \n",
       "1510  26.600000  10.700000  ...  260.790000  77.980000  32.120000  169.710000   \n",
       "53    40.500000  14.600000  ...  478.790000  74.770000  31.240000  150.700000   \n",
       "901   30.500000  15.800000  ...  435.350000  29.920000   8.180000  121.240000   \n",
       "\n",
       "            DSR      FFDI         ic  area_吉林省  area_辽宁省  area_黑龙江省  \n",
       "2033  21.772918  0.570563  23.388744         0         1          0  \n",
       "170   54.960000  0.730000  49.000000         0         0          1  \n",
       "1510  60.720000  0.650000  64.000000         0         0          1  \n",
       "53    56.370000  0.690000  39.000000         0         0          1  \n",
       "901   11.150000  0.000000  27.000000         0         0          1  \n",
       "\n",
       "[5 rows x 35 columns]"
      ]
     },
     "execution_count": 94,
     "metadata": {},
     "output_type": "execute_result"
    }
   ],
   "source": [
    "# 定义特征和目标变量\n",
    "X = train_data.drop('fire', axis=1)\n",
    "y = train_data['fire']\n",
    "\n",
    "# 分割数据集为训练集和测试集\n",
    "X_train, X_test, y_train, y_test = train_test_split(X, y, test_size=0.2, random_state=42)\n",
    "\n",
    "# 显示训练集的前几行\n",
    "X_train.head()"
   ]
  },
  {
   "cell_type": "code",
   "execution_count": 95,
   "id": "62899a4f-041f-4aed-bc94-a3ce4741c60c",
   "metadata": {
    "tags": []
   },
   "outputs": [
    {
     "name": "stderr",
     "output_type": "stream",
     "text": [
      "Training:   0%|                                         | 0/100 [00:00<?, ?it/s]"
     ]
    },
    {
     "name": "stdout",
     "output_type": "stream",
     "text": [
      "[0]\ttrain-error:0.23675\teval-error:0.20802\n",
      "[1]\ttrain-error:0.23675\teval-error:0.20802\n",
      "[2]\ttrain-error:0.23675\teval-error:0.20802\n",
      "[3]\ttrain-error:0.23675\teval-error:0.20802\n",
      "[4]\ttrain-error:0.23675\teval-error:0.20802\n",
      "[5]\ttrain-error:0.20000\teval-error:0.16603\n",
      "[6]\ttrain-error:0.13842\teval-error:0.12786\n",
      "[7]\ttrain-error:0.12888\teval-error:0.11641\n",
      "[8]\ttrain-error:0.12554\teval-error:0.11450\n",
      "[9]\ttrain-error:0.12411\teval-error:0.11450\n",
      "[10]\ttrain-error:0.12506\teval-error:0.11450\n",
      "[11]\ttrain-error:0.12076\teval-error:0.11260\n",
      "[12]\ttrain-error:0.12124\teval-error:0.11260\n",
      "[13]\ttrain-error:0.11981\teval-error:0.11069\n",
      "[14]\ttrain-error:0.11838\teval-error:0.11069\n",
      "[15]\ttrain-error:0.11313\teval-error:0.10878\n",
      "[16]\ttrain-error:0.10979\teval-error:0.10878\n",
      "[17]\ttrain-error:0.10644\teval-error:0.10687\n",
      "[18]\ttrain-error:0.10692\teval-error:0.10687\n",
      "[19]\ttrain-error:0.10597\teval-error:0.10496\n",
      "[20]\ttrain-error:0.10597\teval-error:0.10496\n",
      "[21]\ttrain-error:0.10597\teval-error:0.10496\n",
      "[22]\ttrain-error:0.10119\teval-error:0.10305\n",
      "[23]\ttrain-error:0.10119\teval-error:0.10305\n",
      "[24]\ttrain-error:0.10024\teval-error:0.10305\n",
      "[25]\ttrain-error:0.09451\teval-error:0.10305\n",
      "[26]\ttrain-error:0.09117\teval-error:0.10115\n",
      "[27]\ttrain-error:0.09069\teval-error:0.10305\n",
      "[28]\ttrain-error:0.08878\teval-error:0.09924\n",
      "[29]\ttrain-error:0.08687\teval-error:0.09924\n",
      "[30]\ttrain-error:0.08449\teval-error:0.09542\n",
      "[31]\ttrain-error:0.08449\teval-error:0.09351\n",
      "[32]\ttrain-error:0.08449\teval-error:0.09351\n",
      "[33]\ttrain-error:0.08019\teval-error:0.09160\n",
      "[34]\ttrain-error:0.07542\teval-error:0.08588\n",
      "[35]\ttrain-error:0.07542\teval-error:0.08588\n",
      "[36]\ttrain-error:0.07255\teval-error:0.08397\n",
      "[37]\ttrain-error:0.06683\teval-error:0.07824\n",
      "[38]\ttrain-error:0.06301\teval-error:0.07634\n"
     ]
    },
    {
     "name": "stderr",
     "output_type": "stream",
     "text": [
      "Training:  40%|████████████▍                  | 40/100 [00:00<00:00, 394.58it/s]"
     ]
    },
    {
     "name": "stdout",
     "output_type": "stream",
     "text": [
      "[39]\ttrain-error:0.05632\teval-error:0.07634\n",
      "[40]\ttrain-error:0.05203\teval-error:0.07443\n",
      "[41]\ttrain-error:0.04869\teval-error:0.07443\n",
      "[42]\ttrain-error:0.04344\teval-error:0.07252\n",
      "[43]\ttrain-error:0.03962\teval-error:0.06298\n",
      "[44]\ttrain-error:0.03723\teval-error:0.05916\n",
      "[45]\ttrain-error:0.03389\teval-error:0.05534\n",
      "[46]\ttrain-error:0.03246\teval-error:0.05916\n",
      "[47]\ttrain-error:0.02721\teval-error:0.05153\n",
      "[48]\ttrain-error:0.02482\teval-error:0.04962\n",
      "[49]\ttrain-error:0.02196\teval-error:0.04771\n",
      "[50]\ttrain-error:0.02148\teval-error:0.04389\n",
      "[51]\ttrain-error:0.01909\teval-error:0.04962\n",
      "[52]\ttrain-error:0.01671\teval-error:0.04580\n",
      "[53]\ttrain-error:0.01623\teval-error:0.04389\n",
      "[54]\ttrain-error:0.01623\teval-error:0.04580\n",
      "[55]\ttrain-error:0.01527\teval-error:0.04198\n",
      "[56]\ttrain-error:0.01384\teval-error:0.04389\n",
      "[57]\ttrain-error:0.01289\teval-error:0.04389\n",
      "[58]\ttrain-error:0.01146\teval-error:0.04198\n",
      "[59]\ttrain-error:0.01146\teval-error:0.04008\n",
      "[60]\ttrain-error:0.01002\teval-error:0.03817\n",
      "[61]\ttrain-error:0.01002\teval-error:0.03626\n",
      "[62]\ttrain-error:0.00907\teval-error:0.03626\n",
      "[63]\ttrain-error:0.00811\teval-error:0.04008\n",
      "[64]\ttrain-error:0.00859\teval-error:0.04008\n",
      "[65]\ttrain-error:0.00764\teval-error:0.04008\n",
      "[66]\ttrain-error:0.00764\teval-error:0.04008\n",
      "[67]\ttrain-error:0.00764\teval-error:0.04198\n",
      "[68]\ttrain-error:0.00764\teval-error:0.04008\n",
      "[69]\ttrain-error:0.00716\teval-error:0.04198\n",
      "[70]\ttrain-error:0.00668\teval-error:0.04389\n"
     ]
    },
    {
     "name": "stderr",
     "output_type": "stream",
     "text": [
      "Training:  72%|██████████████████████▎        | 72/100 [00:00<00:00, 429.64it/s]\n"
     ]
    }
   ],
   "source": [
    "# 创建DMatrix对象\n",
    "dtrain = xgb.DMatrix(X_train, label=y_train)\n",
    "dtest = xgb.DMatrix(X_test, label=y_test)\n",
    "\n",
    "# 设置参数\n",
    "params = {\n",
    "    'objective': 'binary:hinge',\n",
    "    'eval_metric': 'error',\n",
    "    'eta': 0.1,\n",
    "    'max_depth': 5,\n",
    "}\n",
    "es = xgb.callback.EarlyStopping(\n",
    "    rounds=10,\n",
    "    save_best=True,\n",
    "    metric_name=\"error\",\n",
    ")\n",
    "\n",
    "# 训练模型并显示进度条\n",
    "evals = [(dtrain, 'train'), (dtest, 'eval')]\n",
    "# callbacks = [tqdm_callback(), es] # 将进度条回调添加到callbacks列表\n",
    "num_boost_round = 100\n",
    "model = xgb.train(params, dtrain, num_boost_round=num_boost_round, evals=evals, callbacks=[es, TQDMCallback(num_boost_round)])\n",
    "# 预测测试集\n",
    "y_pred = model.predict(dtest)\n",
    "# y_pred_binary = [1 if p > 0.5 else 0 for p in y_pred]\n",
    "\n",
    "# 计算准确率\n",
    "# accuracy = accuracy_score(y_test, y_pred_binary)\n",
    "# accuracy"
   ]
  },
  {
   "cell_type": "code",
   "execution_count": null,
   "id": "69177d50",
   "metadata": {},
   "outputs": [],
   "source": [
    "\n",
    "# Calculate confusion matrix\n",
    "conf_matrix = confusion_matrix(y_test, y_pred)\n",
    "print(\"Confusion Matrix:\")\n",
    "print(conf_matrix)\n",
    "\n",
    "# Calculate precision\n",
    "precision = precision_score(y_test, y_pred)\n",
    "print(f\"Precision: {precision}\")\n",
    "\n",
    "# Calculate recall\n",
    "recall = recall_score(y_test, y_pred)\n",
    "print(f\"Recall: {recall}\")\n",
    "\n",
    "# Calculate F1-score\n",
    "f1 = f1_score(y_test, y_pred)\n",
    "print(f\"F1-Score: {f1}\")\n",
    "\n",
    "# Calculate ROC curve and AUC score\n",
    "fpr, tpr, _ = roc_curve(y_test, y_pred)\n",
    "roc_auc = auc(fpr, tpr)\n",
    "\n",
    "# Plot ROC curve\n",
    "plt.figure()\n",
    "plt.plot(fpr, tpr, color='darkorange', lw=2, label=f'ROC curve (area = {roc_auc})')\n",
    "plt.plot([0, 1], [0, 1], color='navy', lw=2, linestyle='--')\n",
    "plt.xlim([0.0, 1.0])\n",
    "plt.ylim([0.0, 1.05])\n",
    "plt.xlabel('False Positive Rate')\n",
    "plt.ylabel('True Positive Rate')\n",
    "plt.title('Receiver Operating Characteristic')\n",
    "plt.legend(loc=\"lower right\")\n",
    "plt.show()\n"
   ]
  },
  {
   "cell_type": "code",
   "execution_count": 96,
   "id": "4581f660-ed24-4d6e-908d-83b1007f7c16",
   "metadata": {
    "tags": []
   },
   "outputs": [],
   "source": [
    "model_path = 'save/fire_risk_model.xgb'\n",
    "\n",
    "# 保存模型\n",
    "model.save_model(model_path)\n"
   ]
  },
  {
   "cell_type": "markdown",
   "id": "9e45fd25-b08a-4767-b32e-5e02682a4a55",
   "metadata": {},
   "source": [
    "推理过程\n",
    "---"
   ]
  },
  {
   "cell_type": "code",
   "execution_count": 97,
   "id": "64a6c297-fa1d-4c58-8c98-37c7adf5bf32",
   "metadata": {
    "tags": []
   },
   "outputs": [],
   "source": [
    "# 从预测数据中分离特征\n",
    "X_pred = pred_data.drop('fire', axis=1)\n",
    "\n",
    "# 创建DMatrix对象\n",
    "dpred = xgb.DMatrix(X_pred)\n",
    "\n",
    "# 使用保存的模型进行预测\n",
    "predictions = model.predict(dpred)\n",
    "\n",
    "# 将预测结果转换为二进制分类输出\n",
    "predictions_binary = [1 if p > 0.5 else 0 for p in predictions]\n",
    "\n",
    "pred_data['fire_prediction'] = predictions_binary\n",
    "\n",
    "pred_data.to_csv('result.csv')"
   ]
  },
  {
   "cell_type": "code",
   "execution_count": 98,
   "id": "47a31341-a999-44be-b455-00bfea7b530d",
   "metadata": {},
   "outputs": [
    {
     "data": {
      "text/plain": [
       "0.6761363636363636"
      ]
     },
     "execution_count": 98,
     "metadata": {},
     "output_type": "execute_result"
    }
   ],
   "source": [
    "obs = pred_data['fire']\n",
    "fo = pred_data['fire_prediction']\n",
    "obs_array = obs.to_numpy()\n",
    "fo_array = fo.to_numpy()\n",
    "accuracy = pc(obs_array, fo_array)\n",
    "accuracy\n"
   ]
  },
  {
   "cell_type": "code",
   "execution_count": null,
   "id": "c31bd19f-66cb-48ac-a130-114d062042b0",
   "metadata": {},
   "outputs": [],
   "source": []
  },
  {
   "cell_type": "code",
   "execution_count": null,
   "id": "796297f9-ec29-4757-b4b3-91ee2f775d9b",
   "metadata": {},
   "outputs": [],
   "source": []
  }
 ],
 "metadata": {
  "kernelspec": {
   "display_name": "yyc",
   "language": "python",
   "name": "yyc"
  },
  "language_info": {
   "codemirror_mode": {
    "name": "ipython",
    "version": 3
   },
   "file_extension": ".py",
   "mimetype": "text/x-python",
   "name": "python",
   "nbconvert_exporter": "python",
   "pygments_lexer": "ipython3",
   "version": "3.10.10"
  },
  "widgets": {
   "application/vnd.jupyter.widget-state+json": {
    "state": {},
    "version_major": 2,
    "version_minor": 0
   }
  }
 },
 "nbformat": 4,
 "nbformat_minor": 5
}
