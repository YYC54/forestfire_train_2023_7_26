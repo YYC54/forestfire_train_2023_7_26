{
 "cells": [
  {
   "cell_type": "code",
   "execution_count": 1,
   "id": "3ef8a877",
   "metadata": {},
   "outputs": [],
   "source": [
    "import glob\n",
    "import pandas as pd\n",
    "# import tensorflow as tf\n",
    "import os\n",
    "from typing import Generator\n",
    "import re\n",
    "# os.environ[\"CUDA_VISIBLE_DEVICES\"] = \"0\"\n",
    "# print(\"Num GPUs Available: \", len(tf.config.list_physical_devices('GPU')))"
   ]
  },
  {
   "cell_type": "code",
   "execution_count": 2,
   "id": "6ed668ef",
   "metadata": {},
   "outputs": [],
   "source": [
    "def txt_file_generator1(txt_files, ignore_index=True):\n",
    "    for txt_file in txt_files:\n",
    "        yield read_txt_file1(txt_file)\n"
   ]
  },
  {
   "cell_type": "code",
   "execution_count": 3,
   "id": "b7472b21",
   "metadata": {},
   "outputs": [],
   "source": [
    "def read_txt_file1(txt_file: str) -> pd.DataFrame:\n",
    "    columns = ['sta','lat','lon',\"Alti\", \"Year\", \"Mon\", \"Day\", \"TEM_Max\",\"TEM_Min\",\"RHU_Min\", \"PRE_Time_2020\", \"Snow_Depth\", \"WIN_S_Max\"]\n",
    "    df = pd.read_csv(txt_file, sep=',', header=None) # 使用制表符作为分隔符\n",
    "    df = df.iloc[:, :13] # 选择前13列\n",
    "    df.columns = columns # 设置列名\n",
    "    return df\n"
   ]
  },
  {
   "cell_type": "code",
   "execution_count": 4,
   "id": "9a767167",
   "metadata": {},
   "outputs": [],
   "source": [
    "def find_txt_files(directory, year):\n",
    "    txt_files = []\n",
    "    for root, dirs, files in os.walk(directory):\n",
    "        # print(\"Root:\", root)\n",
    "        # print(\"Dirs:\", dirs)\n",
    "        # print(\"Files:\", files)\n",
    "        for file in files:\n",
    "            if file.endswith('.txt') and str(year) in file[:4]:\n",
    "                txt_path = os.path.join(root, file)\n",
    "                txt_files.append(txt_path)\n",
    "                # print(\"Found:\", txt_path)\n",
    "    # print(\"All txt files:\", txt_files)\n",
    "    return txt_files\n"
   ]
  },
  {
   "cell_type": "code",
   "execution_count": 5,
   "id": "9e46d4b8",
   "metadata": {},
   "outputs": [],
   "source": [
    "def find_csv(directory):\n",
    "    csv_files = []\n",
    "    pattern = re.compile(r'^obs_\\d{4}\\.csv$')\n",
    "\n",
    "    for root, dirs, files in os.walk(directory):\n",
    "        \n",
    "        for file in files:\n",
    "            if pattern.match(file):\n",
    "                csv_files.append(os.path.join(root, file))\n",
    "    return csv_files\n"
   ]
  },
  {
   "cell_type": "code",
   "execution_count": 6,
   "id": "98b64519",
   "metadata": {},
   "outputs": [],
   "source": [
    "# txt_files = find_txt_files(r'E:\\dataset\\obs_data\\data',2017)\n",
    "\n",
    "# df_gen = txt_file_generator1(txt_files)\n",
    "\n",
    "# df_obs = pd.concat(df_gen,ignore_index=True)\n",
    "\n",
    "# # df_obs.columns =['sta','lat','lon',\"Alti\", \"Year\", \"Mon\", \"Day\", \"TEM_Max\",\"TEM_Min\",\"RHU_Min\", \"PRE_Time_2020\", \"Snow_Depth\", \"WIN_S_Max\"]\n",
    "# df_obs.to_csv(r'E:\\fire_dataset\\obs\\obs_2017.csv')"
   ]
  },
  {
   "cell_type": "code",
   "execution_count": 7,
   "id": "51fc589d",
   "metadata": {},
   "outputs": [],
   "source": [
    "# df_obs.head()"
   ]
  },
  {
   "cell_type": "code",
   "execution_count": 8,
   "id": "915ff44d",
   "metadata": {},
   "outputs": [
    {
     "name": "stdout",
     "output_type": "stream",
     "text": [
      "finishi\n",
      "finishi\n",
      "finishi\n",
      "finishi\n",
      "finishi\n",
      "finishi\n",
      "finishi\n",
      "finishi\n"
     ]
    }
   ],
   "source": [
    "files = find_csv(r'E:\\fire_dataset\\obs')\n",
    "final_df = None\n",
    "for file in files:\n",
    "    df = pd.read_csv(file)\n",
    "    if final_df is None:\n",
    "        final_df = df\n",
    "    else:\n",
    "        final_df = pd.concat([final_df, df], ignore_index=True)\n",
    "    print('finishi')\n",
    "final_df = final_df.loc[:, ~final_df.columns.str.startswith('Unnamed')]\n",
    "\n",
    "final_df.to_csv(r'E:\\fire_dataset\\obs.csv', index=False)"
   ]
  },
  {
   "cell_type": "code",
   "execution_count": 9,
   "id": "6d25c009",
   "metadata": {},
   "outputs": [],
   "source": [
    "pd_100 = pd.read_csv(r'E:\\fire_dataset\\obs.csv', nrows=100)\n",
    "pd_100.to_csv(r'E:\\fire_dataset\\obs100.csv')"
   ]
  },
  {
   "cell_type": "code",
   "execution_count": null,
   "id": "609e0d8e",
   "metadata": {},
   "outputs": [],
   "source": []
  }
 ],
 "metadata": {
  "kernelspec": {
   "display_name": "lab",
   "language": "python",
   "name": "lab"
  },
  "language_info": {
   "codemirror_mode": {
    "name": "ipython",
    "version": 3
   },
   "file_extension": ".py",
   "mimetype": "text/x-python",
   "name": "python",
   "nbconvert_exporter": "python",
   "pygments_lexer": "ipython3",
   "version": "3.10.12"
  }
 },
 "nbformat": 4,
 "nbformat_minor": 5
}
