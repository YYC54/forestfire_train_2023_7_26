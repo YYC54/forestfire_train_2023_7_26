{
 "cells": [
  {
   "cell_type": "code",
   "execution_count": 188,
   "id": "c4fcdb9b-efbb-4b0b-8406-3b4a02975b4a",
   "metadata": {
    "tags": []
   },
   "outputs": [],
   "source": [
    "import pandas as pd\n",
    "from sklearn.model_selection import train_test_split\n",
    "from sklearn.ensemble import RandomForestClassifier\n",
    "from sklearn.metrics import accuracy_score, classification_report\n",
    "from sklearn.preprocessing import LabelEncoder\n",
    "import xgboost as xgb\n",
    "from sklearn.metrics import accuracy_score\n",
    "from sklearn.preprocessing import StandardScaler\n",
    "from tqdm import tqdm\n",
    "import meteva as mem\n",
    "from meteva.method import pc"
   ]
  },
  {
   "cell_type": "code",
   "execution_count": 189,
   "id": "accbdf32-d8f5-49f8-a2cb-5eaaaa68615c",
   "metadata": {
    "tags": []
   },
   "outputs": [],
   "source": [
    "# 定义一个回调函数，使用tqdm显示进度条\n",
    "class TQDMCallback(xgb.callback.TrainingCallback):\n",
    "    def __init__(self, num_boost_round):\n",
    "        self.num_boost_round = num_boost_round\n",
    "\n",
    "    def before_training(self, model):\n",
    "        self.pbar = tqdm(total=self.num_boost_round, desc=\"Training\")\n",
    "        return model\n",
    "\n",
    "    def after_iteration(self, model, epoch, evals_log):\n",
    "        self.pbar.update(1)\n",
    "        return False\n",
    "\n",
    "    def after_training(self, model):\n",
    "        self.pbar.close()\n",
    "        return model\n"
   ]
  },
  {
   "cell_type": "code",
   "execution_count": 190,
   "id": "701f721e-cdb9-480d-abbb-e6f8ebfe4ca6",
   "metadata": {
    "tags": []
   },
   "outputs": [],
   "source": [
    "def select_features(df,thus):\n",
    "    # df_corr = df.drop_duplicates(subset=['date','lon','lat'])\n",
    "    df_corr_1_res = pd.DataFrame(df.corr()['fire'])\n",
    "    df_corr_1_res.sort_values('fire',ascending=False)\n",
    "    # df_corr_1_res.to_csv('tp_corr.csv')\n",
    "    \n",
    "    df_corr_1_res = df_corr_1_res.query('abs(fire)>=@thus')\n",
    "    \n",
    "    feats = list(set(df_corr_1_res.index))\n",
    "    feats = list(filter(lambda x: x not in ['fire','date','year','month','day','lon', 'lat'] , feats))\n",
    "    print(f'corr>{thus}:{feats}')\n",
    "    \n",
    "    feats_name = ['fire','date','year','month','day','lon', 'lat']+feats\n",
    "    return feats_name"
   ]
  },
  {
   "cell_type": "code",
   "execution_count": 191,
   "id": "e39db345-0612-415c-b839-24aed4263c87",
   "metadata": {
    "tags": []
   },
   "outputs": [],
   "source": [
    "def process_outlier(df,feats):\n",
    "    _ = df[feats[0:]]\n",
    "    # 1. 计算每个气象要素的平均值和标准差\n",
    "    mean_values = _.mean()\n",
    "    std_values = _.std()\n",
    "    # 2. 根据三倍标准差法，设定异常值的阈值\n",
    "    threshold = 3 * std_values\n",
    "    # 3. 遍历每个气象要素的数值，将超过设定阈值的值标记为异常值\n",
    "    is_outlier = (_ > mean_values + threshold) | (_ < mean_values - threshold)\n",
    "    # 4. 对于标记为异常值的数据，可以根据需要选择删除、替换或进行插补处理\n",
    "    # 假设你选择删除异常值\n",
    "    df = df[~is_outlier.any(axis=1)]\n",
    "#     df = df.query('sw_max1<20 and sw_max2<20')\n",
    "     \n",
    "    return df"
   ]
  },
  {
   "cell_type": "markdown",
   "id": "68c7e134-053e-43c4-ae97-f282bbea9ece",
   "metadata": {},
   "source": [
    "特征工程\n",
    "---"
   ]
  },
  {
   "cell_type": "code",
   "execution_count": 192,
   "id": "7f920ea2-a629-490d-9f75-7cf43617efb6",
   "metadata": {
    "tags": []
   },
   "outputs": [
    {
     "name": "stdout",
     "output_type": "stream",
     "text": [
      "corr>0.1:['TEM_Max', 'area_辽宁省', 'area_黑龙江省', 'TEM_Min', 'area_吉林省', 'Alti']\n"
     ]
    }
   ],
   "source": [
    "data = pd.read_csv('fire_point_data.csv')\n",
    "\n",
    "data['date'] = pd.to_datetime(data['date'])\n",
    "scaler = StandardScaler()\n",
    "data['date'] = scaler.fit_transform(data['date'].values.reshape(-1, 1))\n",
    "\n",
    "data.drop(columns=['Unnamed: 0'], inplace=True)\n",
    "# 对分类特征进行独热编码\n",
    "data = pd.get_dummies(data, columns=['area'])\n",
    "\n",
    "feats_name = select_features(data, 0.1)\n",
    "data = process_outlier(data,feats_name)"
   ]
  },
  {
   "cell_type": "code",
   "execution_count": 193,
   "id": "1f9c5f2a-b4b1-4772-9a8a-eaefa59b000d",
   "metadata": {
    "tags": []
   },
   "outputs": [],
   "source": [
    "train_data = data[data['year']!=2017]\n",
    "pred_data = data[data['year']==2017]"
   ]
  },
  {
   "cell_type": "markdown",
   "id": "e2a074bf-26bf-4044-afd9-33f0ca7ea566",
   "metadata": {},
   "source": [
    "训练\n",
    "---"
   ]
  },
  {
   "cell_type": "code",
   "execution_count": 194,
   "id": "c132aaaf-b8ef-474f-b8b6-15dc0043a6ff",
   "metadata": {
    "tags": []
   },
   "outputs": [
    {
     "data": {
      "text/html": [
       "<div>\n",
       "<style scoped>\n",
       "    .dataframe tbody tr th:only-of-type {\n",
       "        vertical-align: middle;\n",
       "    }\n",
       "\n",
       "    .dataframe tbody tr th {\n",
       "        vertical-align: top;\n",
       "    }\n",
       "\n",
       "    .dataframe thead th {\n",
       "        text-align: right;\n",
       "    }\n",
       "</style>\n",
       "<table border=\"1\" class=\"dataframe\">\n",
       "  <thead>\n",
       "    <tr style=\"text-align: right;\">\n",
       "      <th></th>\n",
       "      <th>date</th>\n",
       "      <th>year</th>\n",
       "      <th>month</th>\n",
       "      <th>day</th>\n",
       "      <th>lon</th>\n",
       "      <th>lat</th>\n",
       "      <th>Alti</th>\n",
       "      <th>TEM_Max</th>\n",
       "      <th>TEM_Min</th>\n",
       "      <th>RHU_Min</th>\n",
       "      <th>...</th>\n",
       "      <th>DC</th>\n",
       "      <th>FWI</th>\n",
       "      <th>ISI</th>\n",
       "      <th>BUI</th>\n",
       "      <th>DSR</th>\n",
       "      <th>FFDI</th>\n",
       "      <th>ic</th>\n",
       "      <th>area_吉林省</th>\n",
       "      <th>area_辽宁省</th>\n",
       "      <th>area_黑龙江省</th>\n",
       "    </tr>\n",
       "  </thead>\n",
       "  <tbody>\n",
       "    <tr>\n",
       "      <th>1285</th>\n",
       "      <td>-0.785566</td>\n",
       "      <td>2010</td>\n",
       "      <td>10</td>\n",
       "      <td>28</td>\n",
       "      <td>128.6092</td>\n",
       "      <td>48.6794</td>\n",
       "      <td>404.500000</td>\n",
       "      <td>2.600000</td>\n",
       "      <td>-6.700000</td>\n",
       "      <td>29.000000</td>\n",
       "      <td>...</td>\n",
       "      <td>338.420000</td>\n",
       "      <td>22.770000</td>\n",
       "      <td>12.860000</td>\n",
       "      <td>36.630000</td>\n",
       "      <td>6.870000</td>\n",
       "      <td>0.380000</td>\n",
       "      <td>9999.000000</td>\n",
       "      <td>0</td>\n",
       "      <td>0</td>\n",
       "      <td>1</td>\n",
       "    </tr>\n",
       "    <tr>\n",
       "      <th>2952</th>\n",
       "      <td>1.216765</td>\n",
       "      <td>2015</td>\n",
       "      <td>7</td>\n",
       "      <td>19</td>\n",
       "      <td>122.2737</td>\n",
       "      <td>53.1638</td>\n",
       "      <td>438.500000</td>\n",
       "      <td>32.400000</td>\n",
       "      <td>7.200000</td>\n",
       "      <td>25.000000</td>\n",
       "      <td>...</td>\n",
       "      <td>481.950000</td>\n",
       "      <td>60.590000</td>\n",
       "      <td>20.620000</td>\n",
       "      <td>184.180000</td>\n",
       "      <td>38.850000</td>\n",
       "      <td>0.800000</td>\n",
       "      <td>33.000000</td>\n",
       "      <td>0</td>\n",
       "      <td>0</td>\n",
       "      <td>1</td>\n",
       "    </tr>\n",
       "    <tr>\n",
       "      <th>1473</th>\n",
       "      <td>-0.599842</td>\n",
       "      <td>2011</td>\n",
       "      <td>4</td>\n",
       "      <td>6</td>\n",
       "      <td>121.7221</td>\n",
       "      <td>41.8346</td>\n",
       "      <td>167.800000</td>\n",
       "      <td>14.800000</td>\n",
       "      <td>9.300000</td>\n",
       "      <td>21.000000</td>\n",
       "      <td>...</td>\n",
       "      <td>117.210000</td>\n",
       "      <td>106.840000</td>\n",
       "      <td>81.620000</td>\n",
       "      <td>85.740000</td>\n",
       "      <td>106.030000</td>\n",
       "      <td>0.820000</td>\n",
       "      <td>49.000000</td>\n",
       "      <td>0</td>\n",
       "      <td>1</td>\n",
       "      <td>0</td>\n",
       "    </tr>\n",
       "    <tr>\n",
       "      <th>2030</th>\n",
       "      <td>-0.162232</td>\n",
       "      <td>2012</td>\n",
       "      <td>4</td>\n",
       "      <td>17</td>\n",
       "      <td>120.5602</td>\n",
       "      <td>40.9935</td>\n",
       "      <td>45.447554</td>\n",
       "      <td>22.162376</td>\n",
       "      <td>1.092143</td>\n",
       "      <td>26.242468</td>\n",
       "      <td>...</td>\n",
       "      <td>436.909393</td>\n",
       "      <td>127.396797</td>\n",
       "      <td>88.642745</td>\n",
       "      <td>122.847838</td>\n",
       "      <td>145.211788</td>\n",
       "      <td>0.819448</td>\n",
       "      <td>45.190648</td>\n",
       "      <td>0</td>\n",
       "      <td>1</td>\n",
       "      <td>0</td>\n",
       "    </tr>\n",
       "    <tr>\n",
       "      <th>2897</th>\n",
       "      <td>1.214443</td>\n",
       "      <td>2015</td>\n",
       "      <td>7</td>\n",
       "      <td>17</td>\n",
       "      <td>121.6832</td>\n",
       "      <td>52.4246</td>\n",
       "      <td>438.500000</td>\n",
       "      <td>33.200000</td>\n",
       "      <td>8.100000</td>\n",
       "      <td>16.000000</td>\n",
       "      <td>...</td>\n",
       "      <td>463.130000</td>\n",
       "      <td>63.220000</td>\n",
       "      <td>22.450000</td>\n",
       "      <td>174.150000</td>\n",
       "      <td>41.890000</td>\n",
       "      <td>0.800000</td>\n",
       "      <td>42.000000</td>\n",
       "      <td>0</td>\n",
       "      <td>0</td>\n",
       "      <td>1</td>\n",
       "    </tr>\n",
       "  </tbody>\n",
       "</table>\n",
       "<p>5 rows × 34 columns</p>\n",
       "</div>"
      ],
      "text/plain": [
       "          date  year  month  day       lon      lat        Alti    TEM_Max  \\\n",
       "1285 -0.785566  2010     10   28  128.6092  48.6794  404.500000   2.600000   \n",
       "2952  1.216765  2015      7   19  122.2737  53.1638  438.500000  32.400000   \n",
       "1473 -0.599842  2011      4    6  121.7221  41.8346  167.800000  14.800000   \n",
       "2030 -0.162232  2012      4   17  120.5602  40.9935   45.447554  22.162376   \n",
       "2897  1.214443  2015      7   17  121.6832  52.4246  438.500000  33.200000   \n",
       "\n",
       "       TEM_Min    RHU_Min  ...          DC         FWI        ISI         BUI  \\\n",
       "1285 -6.700000  29.000000  ...  338.420000   22.770000  12.860000   36.630000   \n",
       "2952  7.200000  25.000000  ...  481.950000   60.590000  20.620000  184.180000   \n",
       "1473  9.300000  21.000000  ...  117.210000  106.840000  81.620000   85.740000   \n",
       "2030  1.092143  26.242468  ...  436.909393  127.396797  88.642745  122.847838   \n",
       "2897  8.100000  16.000000  ...  463.130000   63.220000  22.450000  174.150000   \n",
       "\n",
       "             DSR      FFDI           ic  area_吉林省  area_辽宁省  area_黑龙江省  \n",
       "1285    6.870000  0.380000  9999.000000         0         0          1  \n",
       "2952   38.850000  0.800000    33.000000         0         0          1  \n",
       "1473  106.030000  0.820000    49.000000         0         1          0  \n",
       "2030  145.211788  0.819448    45.190648         0         1          0  \n",
       "2897   41.890000  0.800000    42.000000         0         0          1  \n",
       "\n",
       "[5 rows x 34 columns]"
      ]
     },
     "execution_count": 194,
     "metadata": {},
     "output_type": "execute_result"
    }
   ],
   "source": [
    "# 定义特征和目标变量\n",
    "X = train_data.drop('fire', axis=1)\n",
    "y = train_data['fire']\n",
    "\n",
    "# 分割数据集为训练集和测试集\n",
    "X_train, X_test, y_train, y_test = train_test_split(X, y, test_size=0.2, random_state=42)\n",
    "\n",
    "# 显示训练集的前几行\n",
    "X_train.head()"
   ]
  },
  {
   "cell_type": "code",
   "execution_count": 195,
   "id": "62899a4f-041f-4aed-bc94-a3ce4741c60c",
   "metadata": {
    "tags": []
   },
   "outputs": [
    {
     "name": "stderr",
     "output_type": "stream",
     "text": [
      "\n",
      "  0%|                                                   | 0/100 [00:00<?, ?it/s]\u001b[A\n",
      "\n",
      "Training:   0%|                                         | 0/100 [00:00<?, ?it/s]\u001b[A\u001b[A"
     ]
    },
    {
     "name": "stdout",
     "output_type": "stream",
     "text": [
      "[0]\ttrain-error:0.21934\teval-error:0.20767\n",
      "[1]\ttrain-error:0.21934\teval-error:0.20767\n",
      "[2]\ttrain-error:0.21934\teval-error:0.20767\n",
      "[3]\ttrain-error:0.21934\teval-error:0.20767\n",
      "[4]\ttrain-error:0.21934\teval-error:0.20767\n",
      "[5]\ttrain-error:0.20416\teval-error:0.19808\n",
      "[6]\ttrain-error:0.17459\teval-error:0.16134\n",
      "[7]\ttrain-error:0.17659\teval-error:0.16613\n",
      "[8]\ttrain-error:0.17619\teval-error:0.16294\n",
      "[9]\ttrain-error:0.15821\teval-error:0.15176\n",
      "[10]\ttrain-error:0.14782\teval-error:0.14377\n",
      "[11]\ttrain-error:0.14503\teval-error:0.13898\n",
      "[12]\ttrain-error:0.14423\teval-error:0.13738\n",
      "[13]\ttrain-error:0.14263\teval-error:0.13578\n",
      "[14]\ttrain-error:0.13863\teval-error:0.13259\n",
      "[15]\ttrain-error:0.13464\teval-error:0.13419\n",
      "[16]\ttrain-error:0.12385\teval-error:0.12141\n",
      "[17]\ttrain-error:0.12066\teval-error:0.11981\n",
      "[18]\ttrain-error:0.11466\teval-error:0.11342\n",
      "[19]\ttrain-error:0.11506\teval-error:0.11502\n",
      "[20]\ttrain-error:0.10787\teval-error:0.10863\n",
      "[21]\ttrain-error:0.10228\teval-error:0.10863\n",
      "[22]\ttrain-error:0.09948\teval-error:0.10064\n",
      "[23]\ttrain-error:0.09828\teval-error:0.10383\n",
      "[24]\ttrain-error:0.09509\teval-error:0.10383\n",
      "[25]\ttrain-error:0.09029\teval-error:0.10543\n",
      "[26]\ttrain-error:0.08949\teval-error:0.10383\n",
      "[27]\ttrain-error:0.08550\teval-error:0.10224\n",
      "[28]\ttrain-error:0.08190\teval-error:0.10224\n",
      "[29]\ttrain-error:0.07551\teval-error:0.09904\n",
      "[30]\ttrain-error:0.07511\teval-error:0.09425\n",
      "[31]\ttrain-error:0.06992\teval-error:0.09265\n",
      "[32]\ttrain-error:0.06792\teval-error:0.09425\n",
      "[33]\ttrain-error:0.06792\teval-error:0.09265\n",
      "[34]\ttrain-error:0.06712\teval-error:0.09105\n",
      "[35]\ttrain-error:0.06352\teval-error:0.09425\n",
      "[36]\ttrain-error:0.06073\teval-error:0.08946\n",
      "[37]\ttrain-error:0.05753\teval-error:0.08786\n",
      "[38]\ttrain-error:0.05394\teval-error:0.08786\n",
      "[39]\ttrain-error:0.04834\teval-error:0.08466\n",
      "[40]\ttrain-error:0.04555\teval-error:0.08466\n"
     ]
    },
    {
     "name": "stderr",
     "output_type": "stream",
     "text": [
      "\n",
      "\n",
      "Training:  41%|████████████▋                  | 41/100 [00:00<00:00, 409.20it/s]\u001b[A\u001b[A"
     ]
    },
    {
     "name": "stdout",
     "output_type": "stream",
     "text": [
      "[41]\ttrain-error:0.04634\teval-error:0.08466\n",
      "[42]\ttrain-error:0.04195\teval-error:0.08147\n",
      "[43]\ttrain-error:0.03915\teval-error:0.07827\n",
      "[44]\ttrain-error:0.03396\teval-error:0.07827\n",
      "[45]\ttrain-error:0.03156\teval-error:0.07508\n",
      "[46]\ttrain-error:0.03076\teval-error:0.07029\n",
      "[47]\ttrain-error:0.03036\teval-error:0.07029\n",
      "[48]\ttrain-error:0.02837\teval-error:0.07029\n",
      "[49]\ttrain-error:0.02717\teval-error:0.06869\n",
      "[50]\ttrain-error:0.02477\teval-error:0.06709\n",
      "[51]\ttrain-error:0.02277\teval-error:0.06550\n",
      "[52]\ttrain-error:0.02237\teval-error:0.06709\n",
      "[53]\ttrain-error:0.01838\teval-error:0.06390\n",
      "[54]\ttrain-error:0.01798\teval-error:0.06070\n",
      "[55]\ttrain-error:0.01798\teval-error:0.05911\n",
      "[56]\ttrain-error:0.01758\teval-error:0.05911\n",
      "[57]\ttrain-error:0.01678\teval-error:0.05751\n",
      "[58]\ttrain-error:0.01478\teval-error:0.05751\n",
      "[59]\ttrain-error:0.01398\teval-error:0.05751\n",
      "[60]\ttrain-error:0.01318\teval-error:0.05911\n",
      "[61]\ttrain-error:0.01278\teval-error:0.05751\n",
      "[62]\ttrain-error:0.01278\teval-error:0.05431\n",
      "[63]\ttrain-error:0.01119\teval-error:0.05272\n",
      "[64]\ttrain-error:0.01239\teval-error:0.05112\n",
      "[65]\ttrain-error:0.01199\teval-error:0.05272\n",
      "[66]\ttrain-error:0.00839\teval-error:0.05431\n",
      "[67]\ttrain-error:0.00679\teval-error:0.05431\n",
      "[68]\ttrain-error:0.00799\teval-error:0.04952\n",
      "[69]\ttrain-error:0.00639\teval-error:0.05272\n",
      "[70]\ttrain-error:0.00599\teval-error:0.05272\n",
      "[71]\ttrain-error:0.00599\teval-error:0.05272\n",
      "[72]\ttrain-error:0.00519\teval-error:0.04952\n",
      "[73]\ttrain-error:0.00519\teval-error:0.05272\n",
      "[74]\ttrain-error:0.00479\teval-error:0.04952\n",
      "[75]\ttrain-error:0.00439\teval-error:0.04952\n",
      "[76]\ttrain-error:0.00479\teval-error:0.04952\n",
      "[77]\ttrain-error:0.00400\teval-error:0.05112\n"
     ]
    },
    {
     "name": "stderr",
     "output_type": "stream",
     "text": [
      "Training:  78%|████████████████████████▏      | 78/100 [00:00<00:00, 443.04it/s]\n"
     ]
    },
    {
     "data": {
      "text/plain": [
       "0.950479233226837"
      ]
     },
     "execution_count": 195,
     "metadata": {},
     "output_type": "execute_result"
    }
   ],
   "source": [
    "# 创建DMatrix对象\n",
    "dtrain = xgb.DMatrix(X_train, label=y_train)\n",
    "dtest = xgb.DMatrix(X_test, label=y_test)\n",
    "\n",
    "# 设置参数\n",
    "params = {\n",
    "    'objective': 'binary:hinge',\n",
    "    'eval_metric': 'error',\n",
    "    'eta': 0.1,\n",
    "    'max_depth': 5,\n",
    "}\n",
    "es = xgb.callback.EarlyStopping(\n",
    "    rounds=10,\n",
    "    save_best=True,\n",
    "    metric_name=\"error\",\n",
    ")\n",
    "\n",
    "# 训练模型并显示进度条\n",
    "evals = [(dtrain, 'train'), (dtest, 'eval')]\n",
    "callbacks = [tqdm_callback(), es] # 将进度条回调添加到callbacks列表\n",
    "num_boost_round = 100\n",
    "model = xgb.train(params, dtrain, num_boost_round=num_boost_round, evals=evals, callbacks=[es, TQDMCallback(num_boost_round)])\n",
    "# 预测测试集\n",
    "y_pred = model.predict(dtest)\n",
    "# y_pred_binary = [1 if p > 0.5 else 0 for p in y_pred]\n",
    "\n",
    "# 计算准确率\n",
    "accuracy = accuracy_score(y_test, y_pred_binary)\n",
    "accuracy"
   ]
  },
  {
   "cell_type": "code",
   "execution_count": 196,
   "id": "4581f660-ed24-4d6e-908d-83b1007f7c16",
   "metadata": {
    "tags": []
   },
   "outputs": [],
   "source": [
    "model_path = 'save/fire_risk_model.xgb'\n",
    "\n",
    "# 保存模型\n",
    "model.save_model(model_path)\n"
   ]
  },
  {
   "cell_type": "markdown",
   "id": "9e45fd25-b08a-4767-b32e-5e02682a4a55",
   "metadata": {},
   "source": [
    "推理过程\n",
    "---"
   ]
  },
  {
   "cell_type": "code",
   "execution_count": 197,
   "id": "64a6c297-fa1d-4c58-8c98-37c7adf5bf32",
   "metadata": {
    "tags": []
   },
   "outputs": [],
   "source": [
    "# 从预测数据中分离特征\n",
    "X_pred = pred_data.drop('fire', axis=1)\n",
    "\n",
    "# 创建DMatrix对象\n",
    "dpred = xgb.DMatrix(X_pred)\n",
    "\n",
    "# 使用保存的模型进行预测\n",
    "predictions = model.predict(dpred)\n",
    "\n",
    "# 将预测结果转换为二进制分类输出\n",
    "# predictions_binary = [1 if p > 0.5 else 0 for p in predictions]\n",
    "\n",
    "pred_data['fire_prediction'] = predictions_binary\n",
    "\n",
    "pred_data.to_csv('result.csv')"
   ]
  },
  {
   "cell_type": "code",
   "execution_count": 200,
   "id": "47a31341-a999-44be-b455-00bfea7b530d",
   "metadata": {},
   "outputs": [
    {
     "data": {
      "text/plain": [
       "0.6722222222222223"
      ]
     },
     "execution_count": 200,
     "metadata": {},
     "output_type": "execute_result"
    }
   ],
   "source": [
    "obs = pred_data['fire']\n",
    "fo = pred_data['fire_prediction']\n",
    "obs_array = obs.to_numpy()\n",
    "fo_array = fo.to_numpy()\n",
    "accuracy = pc(obs_array, fo_array)\n",
    "accuracy\n"
   ]
  },
  {
   "cell_type": "code",
   "execution_count": null,
   "id": "2172fb31-41b7-4a0c-91a8-6f6f799a6eac",
   "metadata": {},
   "outputs": [],
   "source": []
  }
 ],
 "metadata": {
  "kernelspec": {
   "display_name": "yyc",
   "language": "python",
   "name": "yyc"
  },
  "language_info": {
   "codemirror_mode": {
    "name": "ipython",
    "version": 3
   },
   "file_extension": ".py",
   "mimetype": "text/x-python",
   "name": "python",
   "nbconvert_exporter": "python",
   "pygments_lexer": "ipython3",
   "version": "3.10.10"
  },
  "widgets": {
   "application/vnd.jupyter.widget-state+json": {
    "state": {},
    "version_major": 2,
    "version_minor": 0
   }
  }
 },
 "nbformat": 4,
 "nbformat_minor": 5
}
